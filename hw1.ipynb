{
  "nbformat": 4,
  "nbformat_minor": 0,
  "metadata": {
    "colab": {
      "name": "YaluninAleksandrAleksandrovichIAD_1_notebook.ipynb",
      "version": "0.3.2",
      "provenance": [],
      "toc_visible": true
    },
    "kernelspec": {
      "name": "python2",
      "display_name": "Python 2"
    },
    "accelerator": "GPU"
  },
  "cells": [
    {
      "metadata": {
        "id": "2NCfhDnIfkUL",
        "colab_type": "text"
      },
      "cell_type": "markdown",
      "source": [
        "Ялунин Александр ИАД-1, \\\n",
        "PL=0.922"
      ]
    },
    {
      "metadata": {
        "id": "gNSvQi98vp5P",
        "colab_type": "text"
      },
      "cell_type": "markdown",
      "source": [
        "# Imports"
      ]
    },
    {
      "metadata": {
        "ExecuteTime": {
          "end_time": "2018-11-07T16:08:15.388798Z",
          "start_time": "2018-11-07T16:08:15.081241Z"
        },
        "id": "ylrGjQUlvp5R",
        "colab_type": "code",
        "colab": {}
      },
      "cell_type": "code",
      "source": [
        "import zipfile\n",
        "import numpy as np\n",
        "import pandas as pd\n",
        "import os\n",
        "import tqdm\n",
        "import matplotlib \n",
        "%matplotlib inline\n",
        "import matplotlib.pyplot as plt\n",
        "import csv\n",
        "import cv2\n",
        "from itertools import islice"
      ],
      "execution_count": 0,
      "outputs": []
    },
    {
      "metadata": {
        "id": "DQ-Kl3PpR1Et",
        "colab_type": "code",
        "colab": {}
      },
      "cell_type": "code",
      "source": [
        "import time"
      ],
      "execution_count": 0,
      "outputs": []
    },
    {
      "metadata": {
        "id": "oxRHaDxUSnNM",
        "colab_type": "code",
        "colab": {}
      },
      "cell_type": "code",
      "source": [
        "import ast\n",
        "from PIL import Image, ImageDraw"
      ],
      "execution_count": 0,
      "outputs": []
    },
    {
      "metadata": {
        "id": "IJFXHuXhSszR",
        "colab_type": "code",
        "outputId": "1c04c295-a225-4744-9881-a516598f557d",
        "colab": {
          "base_uri": "https://localhost:8080/",
          "height": 34
        }
      },
      "cell_type": "code",
      "source": [
        "import tensorflow as tf\n",
        "import keras\n",
        "from keras import backend as K\n",
        "from keras.models import Sequential, save_model, load_model\n",
        "from keras.layers import Conv2D, MaxPooling2D, Flatten, Dense, Activation, Dropout, GlobalAveragePooling2D, \\\n",
        "    BatchNormalization\n",
        "from keras.metrics import categorical_accuracy, top_k_categorical_accuracy, categorical_crossentropy\n",
        "\n",
        "from keras.applications.mobilenet import MobileNet\n",
        "from keras.applications.resnet50 import ResNet50"
      ],
      "execution_count": 0,
      "outputs": [
        {
          "output_type": "stream",
          "text": [
            "Using TensorFlow backend.\n"
          ],
          "name": "stderr"
        }
      ]
    },
    {
      "metadata": {
        "id": "UJcsLCEV_mzx",
        "colab_type": "text"
      },
      "cell_type": "markdown",
      "source": [
        "**Saving to Google Drive**"
      ]
    },
    {
      "metadata": {
        "id": "fMFJ06BR_eBn",
        "colab_type": "code",
        "colab": {}
      },
      "cell_type": "code",
      "source": [
        "! pip install -U -q PyDrive"
      ],
      "execution_count": 0,
      "outputs": []
    },
    {
      "metadata": {
        "id": "uUwWnSue_eog",
        "colab_type": "code",
        "colab": {}
      },
      "cell_type": "code",
      "source": [
        "from pydrive.auth import GoogleAuth\n",
        "from pydrive.drive import GoogleDrive\n",
        "from google.colab import auth\n",
        "from oauth2client.client import GoogleCredentials"
      ],
      "execution_count": 0,
      "outputs": []
    },
    {
      "metadata": {
        "id": "XoFLSshD_hW7",
        "colab_type": "code",
        "colab": {}
      },
      "cell_type": "code",
      "source": [
        "auth.authenticate_user()\n",
        "gauth = GoogleAuth()\n",
        "gauth.credentials = GoogleCredentials.get_application_default()\n",
        "drive = GoogleDrive(gauth)"
      ],
      "execution_count": 0,
      "outputs": []
    },
    {
      "metadata": {
        "id": "LycMnvtIvp5V",
        "colab_type": "text"
      },
      "cell_type": "markdown",
      "source": [
        "# Download data from Kaggle"
      ]
    },
    {
      "metadata": {
        "id": "dg1ccw6_vp5Z",
        "colab_type": "code",
        "outputId": "67524b0c-02d9-41e9-fbab-6a7176e36f6f",
        "colab": {
          "base_uri": "https://localhost:8080/",
          "height": 445
        }
      },
      "cell_type": "code",
      "source": [
        "# we need to use python 3 version of Kaggle!\n",
        "# remove python 2 version with `pip uninstall kaggle`\n",
        "! pip3 install kaggle --upgrade"
      ],
      "execution_count": 0,
      "outputs": [
        {
          "output_type": "stream",
          "text": [
            "Collecting kaggle\n",
            "\u001b[?25l  Downloading https://files.pythonhosted.org/packages/83/9b/ac57e15fbb239c6793c8d0b7dfd1a4c4a025eaa9f791b5388a7afb515aed/kaggle-1.5.0.tar.gz (53kB)\n",
            "\u001b[K    100% |████████████████████████████████| 61kB 1.2MB/s \n",
            "\u001b[?25hRequirement already satisfied, skipping upgrade: urllib3<1.23.0,>=1.15 in /usr/local/lib/python3.6/dist-packages (from kaggle) (1.22)\n",
            "Requirement already satisfied, skipping upgrade: six>=1.10 in /usr/local/lib/python3.6/dist-packages (from kaggle) (1.11.0)\n",
            "Requirement already satisfied, skipping upgrade: certifi in /usr/local/lib/python3.6/dist-packages (from kaggle) (2018.10.15)\n",
            "Requirement already satisfied, skipping upgrade: python-dateutil in /usr/local/lib/python3.6/dist-packages (from kaggle) (2.5.3)\n",
            "Requirement already satisfied, skipping upgrade: requests in /usr/local/lib/python3.6/dist-packages (from kaggle) (2.18.4)\n",
            "Requirement already satisfied, skipping upgrade: tqdm in /usr/local/lib/python3.6/dist-packages (from kaggle) (4.28.1)\n",
            "Collecting python-slugify (from kaggle)\n",
            "  Downloading https://files.pythonhosted.org/packages/00/ad/c778a6df614b6217c30fe80045b365bfa08b5dd3cb02e8b37a6d25126781/python-slugify-1.2.6.tar.gz\n",
            "Requirement already satisfied, skipping upgrade: chardet<3.1.0,>=3.0.2 in /usr/local/lib/python3.6/dist-packages (from requests->kaggle) (3.0.4)\n",
            "Requirement already satisfied, skipping upgrade: idna<2.7,>=2.5 in /usr/local/lib/python3.6/dist-packages (from requests->kaggle) (2.6)\n",
            "Collecting Unidecode>=0.04.16 (from python-slugify->kaggle)\n",
            "\u001b[?25l  Downloading https://files.pythonhosted.org/packages/31/39/53096f9217b057cb049fe872b7fc7ce799a1a89b76cf917d9639e7a558b5/Unidecode-1.0.23-py2.py3-none-any.whl (237kB)\n",
            "\u001b[K    100% |████████████████████████████████| 245kB 3.8MB/s \n",
            "\u001b[?25hBuilding wheels for collected packages: kaggle, python-slugify\n",
            "  Running setup.py bdist_wheel for kaggle ... \u001b[?25l-\b \b\\\b \bdone\n",
            "\u001b[?25h  Stored in directory: /root/.cache/pip/wheels/8b/21/3b/a0076243c6ae12a6215b2da515fe06b539aee7217b406e510e\n",
            "  Running setup.py bdist_wheel for python-slugify ... \u001b[?25l-\b \bdone\n",
            "\u001b[?25h  Stored in directory: /root/.cache/pip/wheels/e3/65/da/2045deea3098ed7471eca0e2460cfbd3fdfe8c1d6fa6fcac92\n",
            "Successfully built kaggle python-slugify\n",
            "Installing collected packages: Unidecode, python-slugify, kaggle\n",
            "Successfully installed Unidecode-1.0.23 kaggle-1.5.0 python-slugify-1.2.6\n"
          ],
          "name": "stdout"
        }
      ]
    },
    {
      "metadata": {
        "ExecuteTime": {
          "end_time": "2018-11-06T15:29:19.895974Z",
          "start_time": "2018-11-06T15:26:21.334564Z"
        },
        "id": "swVRWtQfvp5c",
        "colab_type": "code",
        "outputId": "0a75fc3d-d7c0-4130-fb9d-acba215f273a",
        "colab": {
          "base_uri": "https://localhost:8080/",
          "height": 68
        }
      },
      "cell_type": "code",
      "source": [
        "# get <token> from https://www.kaggle.com/<user>/account, click \"Create New API Token\", open json file\n",
        "! KAGGLE_USERNAME=alexyalunin KAGGLE_KEY=1191c609419511bd8d9fd6972f716f9e kaggle competitions download -c quickdraw-doodle-recognition -f train_simplified.zip"
      ],
      "execution_count": 0,
      "outputs": [
        {
          "output_type": "stream",
          "text": [
            "Downloading train_simplified.zip to /content\n",
            "100% 7.36G/7.37G [01:58<00:00, 92.4MB/s]\n",
            "100% 7.37G/7.37G [01:58<00:00, 67.0MB/s]\n"
          ],
          "name": "stdout"
        }
      ]
    },
    {
      "metadata": {
        "ExecuteTime": {
          "end_time": "2018-11-07T16:08:31.048432Z",
          "start_time": "2018-11-07T16:08:31.004128Z"
        },
        "id": "bN5eyeayvp5h",
        "colab_type": "code",
        "colab": {}
      },
      "cell_type": "code",
      "source": [
        "# open zip file, will read everything from it\n",
        "zf = zipfile.ZipFile(\"train_simplified.zip\")"
      ],
      "execution_count": 0,
      "outputs": []
    },
    {
      "metadata": {
        "id": "qxUi8fHevp5k",
        "colab_type": "text"
      },
      "cell_type": "markdown",
      "source": [
        "# Data generators from disk (no need to store in RAM)"
      ]
    },
    {
      "metadata": {
        "ExecuteTime": {
          "end_time": "2018-11-07T16:09:00.917240Z",
          "start_time": "2018-11-07T16:09:00.906369Z"
        },
        "id": "aXKApmU5vp5l",
        "colab_type": "code",
        "outputId": "d6ef6646-64db-4410-9da5-5c5640dfa588",
        "colab": {
          "base_uri": "https://localhost:8080/",
          "height": 34
        }
      },
      "cell_type": "code",
      "source": [
        "class_labels = map(lambda x: x.replace(\".csv\", \"\"), zf.namelist())\n",
        "NUM_CLASSES = len(class_labels)\n",
        "class_to_idx = {c: idx for idx, c in enumerate(class_labels)}\n",
        "class_labels[:5]"
      ],
      "execution_count": 0,
      "outputs": [
        {
          "output_type": "execute_result",
          "data": {
            "text/plain": [
              "['fence', 'yoga', 'horse', 'sandwich', 'cat']"
            ]
          },
          "metadata": {
            "tags": []
          },
          "execution_count": 11
        }
      ]
    },
    {
      "metadata": {
        "id": "R2RIYZq6UySe",
        "colab_type": "code",
        "colab": {}
      },
      "cell_type": "code",
      "source": [
        "# function that counts file sizes\n",
        "# %%time\n",
        "# filesLenghts = {}\n",
        "# for fn in zf.namelist():\n",
        "#   with zf.open(fn) as f:\n",
        "#     numline = len(f.readlines())\n",
        "#     filesLenghts[fn]  = numline\n",
        "    \n",
        "# print filesLenghts"
      ],
      "execution_count": 0,
      "outputs": []
    },
    {
      "metadata": {
        "id": "vpQg8G-AaMWe",
        "colab_type": "code",
        "colab": {}
      },
      "cell_type": "code",
      "source": [
        "filesLenghts = {'tooth.csv': 125065, 'The Mona Lisa.csv': 121384, 'bandage.csv': 147615, 'ice cream.csv': 123134, 'soccer ball.csv': 125350, 'sheep.csv': 126122, 'crab.csv': 126931, 'police car.csv': 130025, 'owl.csv': 169633, 'megaphone.csv': 137335, 'animal migration.csv': 137848, 'moustache.csv': 179925, 'bracelet.csv': 119417, 'tree.csv': 144722, 'tornado.csv': 143272, 'bird.csv': 133573, 'hexagon.csv': 142436, 'headphones.csv': 118907, 'bathtub.csv': 174337, 'cake.csv': 124906, 'palm tree.csv': 121960, 'octopus.csv': 150153, 'pillow.csv': 118754, 'stop sign.csv': 119815, 'cookie.csv': 131354, 'squirrel.csv': 156884, 'keyboard.csv': 187767, 'pizza.csv': 130372, 'shark.csv': 126051, 'dolphin.csv': 121614, 'ant.csv': 124613, 'toilet.csv': 129889, 'van.csv': 165910, 'diamond.csv': 131588, 'hockey stick.csv': 130111, 'hot dog.csv': 182000, 'crocodile.csv': 127933, 'pig.csv': 186771, 'blueberry.csv': 127879, 'bed.csv': 113863, 'flying saucer.csv': 151967, 'rhinoceros.csv': 188485, 'bowtie.csv': 130284, 'sailboat.csv': 136507, 'traffic light.csv': 125322, 'swing set.csv': 119358, 'zebra.csv': 144609, 'pineapple.csv': 125072, 'fan.csv': 136159, 'horse.csv': 178287, 'stairs.csv': 128982, 'swan.csv': 152089, 'eraser.csv': 118340, 'shorts.csv': 124971, 'tractor.csv': 116678, 'camel.csv': 121400, 'The Eiffel Tower.csv': 134802, 'sword.csv': 123803, 'dresser.csv': 123396, 'eye.csv': 125889, 'baseball bat.csv': 123810, 'bench.csv': 128696, 'peas.csv': 161657, 'lollipop.csv': 128850, 'flashlight.csv': 239764, 'apple.csv': 144723, 'paintbrush.csv': 187003, 'windmill.csv': 120645, 'popsicle.csv': 126708, 'camouflage.csv': 172711, 'toe.csv': 153653, 'pear.csv': 116905, 'octagon.csv': 159475, 'square.csv': 125146, 'grapes.csv': 155306, 'key.csv': 160966, 'pants.csv': 144265, 'sweater.csv': 120185, 'snowflake.csv': 116686, 'mushroom.csv': 142168, 'foot.csv': 203087, 'pliers.csv': 172550, 'stitches.csv': 125193, 'leaf.csv': 125572, 'skateboard.csv': 128734, 'wine glass.csv': 132303, 'zigzag.csv': 120073, 'garden hose.csv': 121844, 'onion.csv': 132298, 'frying pan.csv': 123825, 'blackberry.csv': 128154, 'paper clip.csv': 127130, 'moon.csv': 121662, 'map.csv': 120630, 'mermaid.csv': 180305, 'rake.csv': 154640, 'matches.csv': 143970, 'screwdriver.csv': 116314, 'mug.csv': 152919, 'lantern.csv': 149913, 'submarine.csv': 124363, 'harp.csv': 285404, 'bulldozer.csv': 187410, 'firetruck.csv': 220696, 'brain.csv': 143034, 'remote control.csv': 119645, 'wheel.csv': 136660, 'feather.csv': 119911, 'crown.csv': 134090, 'candle.csv': 141546, 'angel.csv': 149737, 'laptop.csv': 261502, 'piano.csv': 116871, 'snowman.csv': 340030, 'pencil.csv': 122002, 'fire hydrant.csv': 137243, 'grass.csv': 123072, 'birthday cake.csv': 144983, 'dumbbell.csv': 157976, 'marker.csv': 319137, 'diving board.csv': 290240, 'string bean.csv': 119084, 'panda.csv': 113614, 'underwear.csv': 124549, 'computer.csv': 123886, 'postcard.csv': 125707, 'see saw.csv': 131937, 'parrot.csv': 185531, 'barn.csv': 151140, 'hat.csv': 222611, 'lighthouse.csv': 160904, 'calendar.csv': 321982, 'basketball.csv': 133794, 'sock.csv': 205716, 'monkey.csv': 127634, 'pool.csv': 133440, 'helmet.csv': 121900, 'carrot.csv': 132460, 'binoculars.csv': 124191, 'clock.csv': 120537, 'stove.csv': 116536, 'saxophone.csv': 118108, 'mosquito.csv': 123030, 'jacket.csv': 214125, 'pond.csv': 121621, 'calculator.csv': 128376, 'circle.csv': 122877, 'wristwatch.csv': 162646, 'cup.csv': 130722, 'toothpaste.csv': 131038, 'flip flops.csv': 121519, 'guitar.csv': 120452, 'house plant.csv': 122997, 'ladder.csv': 125390, 'church.csv': 164226, 'drill.csv': 136787, 'nose.csv': 197574, 'rabbit.csv': 155289, 'picture frame.csv': 122372, 'scissors.csv': 123391, 'airplane.csv': 151624, 'peanut.csv': 126627, 'donut.csv': 140752, 'hospital.csv': 167449, 'eyeglasses.csv': 225763, 'face.csv': 161667, 'house.csv': 135421, 'rain.csv': 134681, 'potato.csv': 329205, 'ceiling fan.csv': 115414, 'baseball.csv': 135376, 'teapot.csv': 126805, 'dishwasher.csv': 169760, 'steak.csv': 122043, 'fork.csv': 126078, 'lipstick.csv': 127624, 'floor lamp.csv': 166356, 'smiley face.csv': 124387, 'nail.csv': 158594, 'pickup truck.csv': 130741, 'golf club.csv': 194844, 'hammer.csv': 119013, 'boomerang.csv': 142683, 'line.csv': 143550, 'canoe.csv': 123768, 'beach.csv': 124939, 'goatee.csv': 190003, 'sun.csv': 133782, 'leg.csv': 116805, 'bucket.csv': 124065, 'helicopter.csv': 159939, 'asparagus.csv': 168103, 'door.csv': 120231, 'sandwich.csv': 131733, 'stereo.csv': 122445, 'hourglass.csv': 135958, 'arm.csv': 120952, 'lion.csv': 120950, 'mouth.csv': 134136, 'toaster.csv': 122435, 'car.csv': 182765, 'wine bottle.csv': 126374, 'ambulance.csv': 148005, 'sink.csv': 208411, 'hand.csv': 291774, 'basket.csv': 118459, 'chair.csv': 222707, 'bee.csv': 120891, 'hot tub.csv': 120280, 'cactus.csv': 131677, 'lobster.csv': 140176, 't-shirt.csv': 125234, 'alarm clock.csv': 123400, 'dragon.csv': 124363, 'couch.csv': 119663, 'speedboat.csv': 188581, 'skull.csv': 126175, 'cow.csv': 123084, 'bush.csv': 120521, 'rainbow.csv': 126846, 'mountain.csv': 128541, 'bread.csv': 120571, 'truck.csv': 131355, 'washing machine.csv': 120852, 'tennis racquet.csv': 231152, 'lightning.csv': 151561, 'river.csv': 133272, 'hockey puck.csv': 203302, 'motorbike.csv': 169932, 'finger.csv': 167958, 'frog.csv': 159048, 'campfire.csv': 133396, 'rollerskates.csv': 119773, 'hedgehog.csv': 120528, 'whale.csv': 116503, 'dog.csv': 152160, 'snail.csv': 133758, 'mailbox.csv': 130054, 'butterfly.csv': 118000, 'waterslide.csv': 185365, 'cell phone.csv': 121131, 'elephant.csv': 126970, 'broccoli.csv': 132827, 'axe.csv': 124123, 'triangle.csv': 123171, 'spider.csv': 209448, 'The Great Wall of China.csv': 193016, 'mouse.csv': 178827, 'hamburger.csv': 129673, 'parachute.csv': 127320, 'bear.csv': 134763, 'spoon.csv': 125029, 'hurricane.csv': 136246, 'fish.csv': 134151, 'flower.csv': 144819, 'yoga.csv': 280443, 'television.csv': 123138, 'sleeping bag.csv': 119692, 'bat.csv': 118115, 'suitcase.csv': 126443, 'shovel.csv': 117195, 'necklace.csv': 120581, 'stethoscope.csv': 153795, 'jail.csv': 120132, 'garden.csv': 158528, 'cloud.csv': 120266, 'school bus.csv': 122042, 'roller coaster.csv': 143571, 'kangaroo.csv': 174471, 'cat.csv': 123203, 'belt.csv': 191120, 'train.csv': 127949, 'ocean.csv': 131494, 'envelope.csv': 134864, 'cannon.csv': 141395, 'bridge.csv': 133011, 'saw.csv': 121257, 'chandelier.csv': 167503, 'cello.csv': 149726, 'purse.csv': 123321, 'squiggle.csv': 118442, 'fence.csv': 129427, 'radio.csv': 135729, 'bicycle.csv': 126528, 'beard.csv': 165203, 'microphone.csv': 120571, 'trombone.csv': 184760, 'cruise ship.csv': 123411, 'vase.csv': 126476, 'raccoon.csv': 119589, 'sea turtle.csv': 119877, 'giraffe.csv': 127183, 'duck.csv': 135481, 'teddy-bear.csv': 179569, 'knee.csv': 267541, 'castle.csv': 122535, 'table.csv': 128022, 'tiger.csv': 121068, 'trumpet.csv': 169548, 'book.csv': 119365, 'scorpion.csv': 165690, 'violin.csv': 217261, 'telephone.csv': 127886, 'flamingo.csv': 124570, 'strawberry.csv': 122302, 'microwave.csv': 130534, 'light bulb.csv': 120880, 'toothbrush.csv': 124829, 'tent.csv': 131528, 'snorkel.csv': 154534, 'streetlight.csv': 123281, 'skyscraper.csv': 183710, 'paint can.csv': 123447, 'elbow.csv': 126254, 'bus.csv': 166209, 'coffee cup.csv': 183433, 'watermelon.csv': 132940, 'bottlecap.csv': 153208, 'power outlet.csv': 169463, 'star.csv': 137620, 'cooler.csv': 271445, 'banana.csv': 307937, 'oven.csv': 206911, 'backpack.csv': 125802, 'crayon.csv': 129954, 'clarinet.csv': 126215, 'hot air balloon.csv': 126351, 'passport.csv': 150266, 'ear.csv': 122898, 'fireplace.csv': 155571, 'shoe.csv': 120232, 'compass.csv': 127610, 'umbrella.csv': 124085, 'snake.csv': 122274, 'broom.csv': 116928, 'anvil.csv': 126232, 'spreadsheet.csv': 170201, 'drums.csv': 137300, 'penguin.csv': 253792, 'camera.csv': 128773}\n"
      ],
      "execution_count": 0,
      "outputs": []
    },
    {
      "metadata": {
        "id": "YYa4elB3Ybvq",
        "colab_type": "code",
        "colab": {}
      },
      "cell_type": "code",
      "source": [
        "# fl = [129427, 280443, 178287, 131733, 123203, 172711, 123030, 131937, 132298, 155306, 167503, 125193, 208411, 169548, 121131, 183710, 135958, 140752, 115414, 130284, 127624, 126443, 121662, 169760, 180305, 127933, 121068, 184760, 126351, 120571, 153208, 128541, 133440, 122274, 152160, 148005, 125802, 157976, 126254, 159048, 116314, 137243, 118442, 123396, 124123, 130054, 141395, 134763, 291774, 129889, 121844, 231152, 130722, 137300, 222611, 124065, 119815, 119645, 160966, 253792, 131354, 128154, 120232, 126708, 123411, 155289, 170201, 130534, 124613, 185531, 126374, 118115, 125322, 116503, 136660, 130111, 156884, 113614, 143550, 122372, 167958, 136507, 127610, 134136, 118340, 125390, 128696, 123825, 190003, 122042, 121400, 124570, 123810, 166356, 120528, 122445, 133011, 132827, 127879, 174337, 271445, 183433, 123072, 130741, 153653, 127634, 119084, 125350, 120073, 159939, 124387, 186771, 159475, 126175, 167449, 220696, 125572, 137335, 144723, 116536, 151561, 155571, 307937, 126078, 203087, 121257, 123321, 123803, 118108, 120852, 127320, 123400, 126232, 144983, 340030, 124939, 142683, 154534, 124549, 118754, 187767, 119692, 116905, 164226, 131494, 118907, 160904, 137620, 133396, 154640, 126051, 128773, 120452, 134681, 321982, 126476, 144819, 120185, 152919, 120132, 127886, 122002, 188581, 165690, 151967, 214125, 120571, 120266, 319137, 117195, 119589, 122043, 161667, 143034, 150266, 133794, 131588, 127949, 131528, 165203, 121519, 174471, 143272, 122997, 149913, 123768, 122535, 290240, 151140, 113863, 158594, 203302, 126627, 120521, 166209, 137848, 119365, 133272, 130372, 126122, 120950, 125707, 119877, 143571, 123134, 149726, 122302, 136159, 136787, 128376, 150153, 125072, 142436, 124363, 126528, 125146, 116678, 122435, 118000, 285404, 129954, 125234, 120581, 187003, 147615, 120952, 123447, 182000, 119358, 120231, 121614, 178827, 116871, 142168, 197574, 133573, 134151, 128022, 120880, 134090, 135481, 134802, 135421, 121960, 131677, 120280, 120891, 119417, 132303, 121384, 187410, 123391, 179925, 169633, 225763, 121900, 126805, 123281, 141546, 152089, 120630, 149737, 205716, 188485, 162646, 158528, 116805, 194844, 136246, 143970, 124085, 144265, 261502, 121621, 125029, 168103, 128982, 125889, 124363, 123084, 119663, 116928, 239764, 329205, 135376, 144722, 122877, 135729, 120537, 119013, 133782, 153795, 122898, 132940, 124906, 127130, 120645, 217261, 191120, 172550, 126970, 267541, 123171, 119911, 123886, 126846, 128850, 130025, 124971, 128734, 119773, 144609, 169932, 209448, 133758, 124829, 124191, 185365, 131355, 222707, 151624, 161657, 134864, 125065, 193016, 126931, 165910, 126215, 182765, 132460, 118459, 116686, 169463, 129673, 140176, 131038, 179569, 123138, 206911, 127183]\n",
        "# _ = plt.hist(filesLenghts, bins=150)\n",
        "# np.min(fl)"
      ],
      "execution_count": 0,
      "outputs": []
    },
    {
      "metadata": {
        "id": "mfWKYXMstDd-",
        "colab_type": "code",
        "colab": {}
      },
      "cell_type": "code",
      "source": [
        "LAST_LINE=0\n",
        "STEPS_PER_EPOCH = 1000"
      ],
      "execution_count": 0,
      "outputs": []
    },
    {
      "metadata": {
        "id": "2mFpGZdTe5uc",
        "colab_type": "text"
      },
      "cell_type": "markdown",
      "source": [
        "After each epoch, 32 files are selected to generate images, one generator can be selected several times to generate images for 1 batch, they do not record the line in which the iterator stops at the end of epoch, therefore many images are seen several times while others are never, even some classes can never be seen, therefore this leads to a huge variance problem. The new generator I have written solves this problem, it records the line (LAST_LINE) the iterator stopped last time and it restarts from the beginning of file efficiently enough."
      ]
    },
    {
      "metadata": {
        "ExecuteTime": {
          "end_time": "2018-11-07T16:09:01.213496Z",
          "start_time": "2018-11-07T16:09:01.203670Z"
        },
        "id": "ldaQcetYvp5o",
        "colab_type": "code",
        "colab": {}
      },
      "cell_type": "code",
      "source": [
        "# loop through file eternally\n",
        "# def get_eternal_csv_generator(fn, debug=False):\n",
        "#     while True:\n",
        "#         with zf.open(fn) as f:\n",
        "#             f.readline()  # skip header\n",
        "#             for line in csv.reader(islice(f, LAST_LINE, None), delimiter=',', quotechar='\"'):\n",
        "#                 yield line[1], line[5]\n",
        "#             if debug:\n",
        "#                 print fn, \"is done, starting from the beginning...\"\n",
        "\n",
        "def get_eternal_csv_generator(fn, debug=False):\n",
        "    while True:\n",
        "        with zf.open(fn) as f:\n",
        "            f.readline() # skip header\n",
        "            if STEPS_PER_EPOCH > filesLenghts[fn] - LAST_LINE:\n",
        "                if filesLenghts[fn] > LAST_LINE:\n",
        "                    _line = 0\n",
        "                else:\n",
        "                    _line = LAST_LINE % filesLenghts[fn]\n",
        "                for line in csv.reader(islice(f, _line, None), delimiter=',', quotechar='\"'):\n",
        "                    yield line[1], line[5]\n",
        "            else:\n",
        "                for line in csv.reader(islice(f, LAST_LINE, None), delimiter=',', quotechar='\"'):\n",
        "                    yield line[1], line[5]\n",
        "            if debug:\n",
        "                print fn, \"is done, starting from the beginning...\""
      ],
      "execution_count": 0,
      "outputs": []
    },
    {
      "metadata": {
        "id": "HCgfFfej0mAp",
        "colab_type": "code",
        "outputId": "384dc4d4-e464-41b0-8d36-b56503338973",
        "colab": {
          "base_uri": "https://localhost:8080/",
          "height": 71
        }
      },
      "cell_type": "code",
      "source": [
        "a = get_eternal_csv_generator(\"fence.csv\").next()\n",
        "a"
      ],
      "execution_count": 0,
      "outputs": [
        {
          "output_type": "execute_result",
          "data": {
            "text/plain": [
              "('[[[14, 14], [82, 8]], [[55, 56], [62, 11]], [[97, 97], [90, 14]], [[152, 146, 145], [70, 26, 0]], [[0, 57, 196, 255], [34, 36, 47, 47]]]',\n",
              " 'fence')"
            ]
          },
          "metadata": {
            "tags": []
          },
          "execution_count": 17
        }
      ]
    },
    {
      "metadata": {
        "id": "jEv8kzCtg5z1",
        "colab_type": "text"
      },
      "cell_type": "markdown",
      "source": [
        "If batch_size is 340, then we just take 1 sample from each class"
      ]
    },
    {
      "metadata": {
        "ExecuteTime": {
          "end_time": "2018-11-07T16:09:01.651230Z",
          "start_time": "2018-11-07T16:09:01.642356Z"
        },
        "id": "0F6jLyuHvp5q",
        "colab_type": "code",
        "colab": {}
      },
      "cell_type": "code",
      "source": [
        "def raw_batch_generator(batch_size, debug=False):\n",
        "    print 'LAST_LINE:', LAST_LINE\n",
        "    generators = np.array([get_eternal_csv_generator(fn, debug) for fn in zf.namelist()])\n",
        "    while True:\n",
        "        if batch_size != 340:\n",
        "            random_indices = np.random.randint(0, len(generators), size=batch_size)\n",
        "            yield [gen.next() for gen in generators[random_indices]]\n",
        "        else:\n",
        "            yield [gen.next() for gen in generators]"
      ],
      "execution_count": 0,
      "outputs": []
    },
    {
      "metadata": {
        "id": "h7ed7cJ7vp5t",
        "colab_type": "text"
      },
      "cell_type": "markdown",
      "source": [
        "# Images generator"
      ]
    },
    {
      "metadata": {
        "id": "mZ2O0cxG6mZ1",
        "colab_type": "text"
      },
      "cell_type": "markdown",
      "source": [
        "Added grayscale to strokes (copypasted from Kaggle)"
      ]
    },
    {
      "metadata": {
        "id": "Sr2_vbsnb2nC",
        "colab_type": "code",
        "colab": {}
      },
      "cell_type": "code",
      "source": [
        "BASE_SIZE=128"
      ],
      "execution_count": 0,
      "outputs": []
    },
    {
      "metadata": {
        "ExecuteTime": {
          "end_time": "2018-11-07T16:09:04.267262Z",
          "start_time": "2018-11-07T16:09:04.251004Z"
        },
        "id": "Pysp6qvrvp5v",
        "colab_type": "code",
        "colab": {}
      },
      "cell_type": "code",
      "source": [
        "# copy-paste from https://www.kaggle.com/jpmiller/image-based-cnn\n",
        "# faster conversion function\n",
        "\n",
        "# def draw_it(strokes, img_size, time_color=True):\n",
        "#     image = Image.new(\"P\", (256, 256), color=255)\n",
        "#     image_draw = ImageDraw.Draw(image)\n",
        "#     for t, stroke in enumerate(ast.literal_eval(strokes)):\n",
        "#         for i in range(len(stroke[0])-1):\n",
        "#             color = 255 - min(t, 10) * 13 if time_color else 255\n",
        "#             image_draw.line([stroke[0][i], \n",
        "#                              stroke[1][i],\n",
        "#                              stroke[0][i+1], \n",
        "#                              stroke[1][i+1]],\n",
        "#                             fill=color, width=6)\n",
        "#     image = image.resize((img_size, img_size))\n",
        "#     return np.array(image, dtype=np.uint8)\n",
        "\n",
        "# copy-paste from https://www.kaggle.com/gaborfodor/greyscale-mobilenet-lb-0-892\n",
        "\n",
        "def draw_cv2(raw_strokes, size=BASE_SIZE, lw=6, time_color=True):\n",
        "    img = np.zeros((256, 256), np.uint8)\n",
        "    for t, stroke in enumerate(ast.literal_eval(raw_strokes)):\n",
        "        for i in range(len(stroke[0]) - 1):\n",
        "            color = 255 - min(t, 10) * 13 if time_color else 255\n",
        "            _ = cv2.line(img, (stroke[0][i], stroke[1][i]),\n",
        "                         (stroke[0][i + 1], stroke[1][i + 1]), color, lw)\n",
        "    if size != 256:\n",
        "        return cv2.resize(img, (size, size))\n",
        "    else:\n",
        "        return img"
      ],
      "execution_count": 0,
      "outputs": []
    },
    {
      "metadata": {
        "ExecuteTime": {
          "end_time": "2018-11-07T16:09:07.131184Z",
          "start_time": "2018-11-07T16:09:07.120659Z"
        },
        "id": "_Du013WGvp5x",
        "colab_type": "code",
        "colab": {}
      },
      "cell_type": "code",
      "source": [
        "def images_and_labels_generator(batch_size, img_size):\n",
        "    for batch in raw_batch_generator(batch_size):\n",
        "        batch_images = []\n",
        "        batch_labels = []\n",
        "        for e in batch:\n",
        "            batch_images.append(draw_cv2(e[0], img_size))\n",
        "            batch_labels.append(e[1])\n",
        "        batch_images = np.stack(batch_images, axis=0)\n",
        "        yield batch_images, batch_labels"
      ],
      "execution_count": 0,
      "outputs": []
    },
    {
      "metadata": {
        "id": "NRuvsrefhNZt",
        "colab_type": "text"
      },
      "cell_type": "markdown",
      "source": [
        "As you can see a picture now records the information about the sequence of strokes"
      ]
    },
    {
      "metadata": {
        "ExecuteTime": {
          "end_time": "2018-11-07T16:09:31.235828Z",
          "start_time": "2018-11-07T16:09:31.078072Z"
        },
        "id": "lhEyvz3kvp5z",
        "colab_type": "code",
        "outputId": "5c97c7d2-9a1f-4df4-83e8-e78c4f8b3ddc",
        "colab": {
          "base_uri": "https://localhost:8080/",
          "height": 297
        }
      },
      "cell_type": "code",
      "source": [
        "b = images_and_labels_generator(32, 128).next()\n",
        "plt.imshow(b[0][10, :, :])\n",
        "plt.title(b[1][10])\n",
        "plt.grid('off')\n",
        "plt.show()"
      ],
      "execution_count": 0,
      "outputs": [
        {
          "output_type": "stream",
          "text": [
            "LAST_LINE: 0\n"
          ],
          "name": "stdout"
        },
        {
          "output_type": "display_data",
          "data": {
            "image/png": "[encoded data removed]",
            "text/plain": [
              "<matplotlib.figure.Figure at 0x7f9670bb9650>"
            ]
          },
          "metadata": {
            "tags": []
          }
        }
      ]
    },
    {
      "metadata": {
        "ExecuteTime": {
          "end_time": "2018-11-06T22:00:38.205119Z",
          "start_time": "2018-11-06T22:00:38.199739Z"
        },
        "id": "TOr_1hXevp53",
        "colab_type": "text"
      },
      "cell_type": "markdown",
      "source": [
        "# Train utils\n"
      ]
    },
    {
      "metadata": {
        "ExecuteTime": {
          "end_time": "2018-11-07T16:10:14.627454Z",
          "start_time": "2018-11-07T16:10:14.614258Z"
        },
        "id": "BtB2HLXTvp57",
        "colab_type": "code",
        "colab": {}
      },
      "cell_type": "code",
      "source": [
        "# reset graph when you change architecture!\n",
        "def reset_tf_session():\n",
        "    curr_session = tf.get_default_session()\n",
        "    # close current session\n",
        "    if curr_session is not None:\n",
        "        curr_session.close()\n",
        "    # reset graph\n",
        "    K.clear_session()\n",
        "    # create new session\n",
        "    config = tf.ConfigProto()\n",
        "    config.gpu_options.allow_growth = True\n",
        "    s = tf.InteractiveSession(config=config)\n",
        "    K.set_session(s)\n",
        "    return s"
      ],
      "execution_count": 0,
      "outputs": []
    },
    {
      "metadata": {
        "ExecuteTime": {
          "end_time": "2018-11-07T16:11:58.574802Z",
          "start_time": "2018-11-07T16:11:58.565415Z"
        },
        "id": "P9_8YQrLvp6B",
        "colab_type": "code",
        "colab": {}
      },
      "cell_type": "code",
      "source": [
        "def train_iterator(batch_size, img_size=BASE_SIZE):\n",
        "    for batch in images_and_labels_generator(batch_size, img_size):\n",
        "        images = batch[0].astype('float32')\n",
        "        ### YOUR CODE HERE: normalize images!\n",
        "        images = np.divide(images, 255.)\n",
        "        images = np.expand_dims(images, -1)\n",
        "        labels = keras.utils.to_categorical(map(class_to_idx.get, batch[1]), NUM_CLASSES)\n",
        "        yield images, labels"
      ],
      "execution_count": 0,
      "outputs": []
    },
    {
      "metadata": {
        "ExecuteTime": {
          "end_time": "2018-11-07T16:11:59.923327Z",
          "start_time": "2018-11-07T16:11:59.898171Z"
        },
        "scrolled": true,
        "id": "vbIp6kGUvp6E",
        "colab_type": "code",
        "outputId": "f72bea09-3763-4ea6-d3d9-32faa3d5c50b",
        "colab": {
          "base_uri": "https://localhost:8080/",
          "height": 68
        }
      },
      "cell_type": "code",
      "source": [
        "sample_batch = train_iterator(32, 128).next()\n",
        "print sample_batch[0].shape\n",
        "print sample_batch[1].shape"
      ],
      "execution_count": 0,
      "outputs": [
        {
          "output_type": "stream",
          "text": [
            "LAST_LINE: 0\n",
            "(32, 128, 128, 1)\n",
            "(32, 340)\n"
          ],
          "name": "stdout"
        }
      ]
    },
    {
      "metadata": {
        "id": "UG2qN3T8YCQZ",
        "colab_type": "code",
        "colab": {}
      },
      "cell_type": "code",
      "source": [
        "def top_3_accuracy(y_true, y_pred):\n",
        "    return top_k_categorical_accuracy(y_true, y_pred, k=3)"
      ],
      "execution_count": 0,
      "outputs": []
    },
    {
      "metadata": {
        "id": "s9rJ1dhWmYj-",
        "colab_type": "text"
      },
      "cell_type": "markdown",
      "source": [
        "### Callbacks + Saving to Google Drive"
      ]
    },
    {
      "metadata": {
        "id": "oH8y7LNhYE3R",
        "colab_type": "code",
        "colab": {}
      },
      "cell_type": "code",
      "source": [
        "class ModelSaveCallback(keras.callbacks.Callback):\n",
        "    def __init__(self, model_name):\n",
        "        super(ModelSaveCallback, self).__init__()\n",
        "        self.model_name = model_name\n",
        "\n",
        "    def on_epoch_end(self, epoch, logs=None):\n",
        "        model_filename = self.model_name+\"_\"+str(epoch + 1)\n",
        "        save_model(self.model, model_filename) \n",
        "        model_file = drive.CreateFile({'title' : model_filename})\n",
        "        model_file.SetContentFile(model_filename)\n",
        "        model_file.Upload()\n",
        "        drive.CreateFile({'id': model_file.get('id')})\n",
        "        print(\"Uploaded to Drive: {}\".format(model_file.get('id')))\n",
        "        print(\"Model saved as: {}\".format(model_filename))"
      ],
      "execution_count": 0,
      "outputs": []
    },
    {
      "metadata": {
        "id": "cTbAd1GikyUT",
        "colab_type": "code",
        "colab": {}
      },
      "cell_type": "code",
      "source": [
        "# model_filename = 'model_3_40'\n",
        "# model_file = drive.CreateFile({'title' : model_filename})\n",
        "# model_file.SetContentFile(model_filename)\n",
        "# model_file.Upload()\n",
        "# drive.CreateFile({'id': model_file.get('id')})"
      ],
      "execution_count": 0,
      "outputs": []
    },
    {
      "metadata": {
        "id": "NwM6zSUIUeGi",
        "colab_type": "text"
      },
      "cell_type": "markdown",
      "source": [
        "# Models"
      ]
    },
    {
      "metadata": {
        "id": "UZXmE4pNa1q0",
        "colab_type": "text"
      },
      "cell_type": "markdown",
      "source": [
        "## Model 1"
      ]
    },
    {
      "metadata": {
        "ExecuteTime": {
          "end_time": "2018-11-07T16:15:15.162847Z",
          "start_time": "2018-11-07T16:15:15.148961Z"
        },
        "id": "S1wOEL8Dvp6M",
        "colab_type": "code",
        "outputId": "90524574-5a27-4833-e719-4cfc596c90ca",
        "colab": {
          "base_uri": "https://localhost:8080/",
          "height": 476
        }
      },
      "cell_type": "code",
      "source": [
        "def make_model_1():\n",
        "    \"\"\"\n",
        "    Define your model architecture here.\n",
        "    Returns `Sequential` model.\n",
        "    \"\"\"\n",
        "    model = Sequential()\n",
        "    model.add(Conv2D(128, kernel_size=(3, 3), padding='same', activation='relu', input_shape=(64, 64, 1)))\n",
        "    model.add(MaxPooling2D(pool_size=(2, 2), strides=(2, 2)))\n",
        "    model.add(Conv2D(64, kernel_size=(3, 3), activation='relu'))\n",
        "    model.add(MaxPooling2D(pool_size=(2, 2), strides=(2, 2)))\n",
        "    model.add(Conv2D(32, kernel_size=(3, 3), activation='relu'))\n",
        "    model.add(MaxPooling2D(pool_size=(2, 2), strides=(2, 2)))\n",
        "    model.add(Flatten())\n",
        "    model.add(Dense(1024, activation='relu'))\n",
        "    model.add(Dropout(0.25))\n",
        "    model.add(Dense(NUM_CLASSES, activation=\"softmax\"))\n",
        "    \n",
        "    return model\n",
        "\n",
        "s = reset_tf_session()\n",
        "model_1 = make_model_1()\n",
        "model_1.summary()"
      ],
      "execution_count": 0,
      "outputs": [
        {
          "output_type": "stream",
          "text": [
            "_________________________________________________________________\n",
            "Layer (type)                 Output Shape              Param #   \n",
            "=================================================================\n",
            "conv2d_1 (Conv2D)            (None, 64, 64, 128)       1280      \n",
            "_________________________________________________________________\n",
            "max_pooling2d_1 (MaxPooling2 (None, 32, 32, 128)       0         \n",
            "_________________________________________________________________\n",
            "conv2d_2 (Conv2D)            (None, 30, 30, 64)        73792     \n",
            "_________________________________________________________________\n",
            "max_pooling2d_2 (MaxPooling2 (None, 15, 15, 64)        0         \n",
            "_________________________________________________________________\n",
            "conv2d_3 (Conv2D)            (None, 13, 13, 32)        18464     \n",
            "_________________________________________________________________\n",
            "max_pooling2d_3 (MaxPooling2 (None, 6, 6, 32)          0         \n",
            "_________________________________________________________________\n",
            "flatten_1 (Flatten)          (None, 1152)              0         \n",
            "_________________________________________________________________\n",
            "dense_1 (Dense)              (None, 1024)              1180672   \n",
            "_________________________________________________________________\n",
            "dropout_1 (Dropout)          (None, 1024)              0         \n",
            "_________________________________________________________________\n",
            "dense_2 (Dense)              (None, 340)               348500    \n",
            "=================================================================\n",
            "Total params: 1,622,708\n",
            "Trainable params: 1,622,708\n",
            "Non-trainable params: 0\n",
            "_________________________________________________________________\n"
          ],
          "name": "stdout"
        }
      ]
    },
    {
      "metadata": {
        "ExecuteTime": {
          "end_time": "2018-11-07T16:16:27.284265Z",
          "start_time": "2018-11-07T16:16:27.184294Z"
        },
        "id": "ht0YLXwBvp6V",
        "colab_type": "code",
        "colab": {}
      },
      "cell_type": "code",
      "source": [
        "model_1.compile(\n",
        "    loss='categorical_crossentropy',\n",
        "    optimizer=keras.optimizers.adam(lr=0.002, clipnorm=5.),\n",
        "    metrics=[categorical_accuracy, top_3_accuracy]\n",
        ")"
      ],
      "execution_count": 0,
      "outputs": []
    },
    {
      "metadata": {
        "id": "30i_zXMj9HtA",
        "colab_type": "code",
        "outputId": "af077f54-883f-4841-fdfd-c41da7b8f2c7",
        "colab": {
          "base_uri": "https://localhost:8080/",
          "height": 1680
        }
      },
      "cell_type": "code",
      "source": [
        "%%time\n",
        "\n",
        "MODEL_NAME = \"model_1\"\n",
        "BATCH_SIZE = 680\n",
        "STEPS_PER_EPOCH = 500\n",
        "EPOCHS=20\n",
        "\n",
        "last_finished_epoch = 10\n",
        "\n",
        "if last_finished_epoch > 0:\n",
        "    s = reset_tf_session()\n",
        "    model_filename = MODEL_NAME+\"_\"+str(last_finished_epoch)\n",
        "    # Download from Drive\n",
        "#     last_weight_file = drive.CreateFile({'id': '186Z-YIvnOHN40w-rNuGXdRwVycQePTab'}) \n",
        "#     last_weight_file.GetContentFile('model_1_10')\n",
        "    model_1 = load_model(model_filename, custom_objects={\"top_3_accuracy\": top_3_accuracy})\n",
        "\n",
        "hist_1 = model_1.fit_generator(\n",
        "    train_iterator(BATCH_SIZE, 64), \n",
        "    steps_per_epoch=STEPS_PER_EPOCH,\n",
        "    epochs=EPOCHS,\n",
        "    callbacks=[ModelSaveCallback(MODEL_NAME)],\n",
        "    verbose=1,\n",
        "    initial_epoch=last_finished_epoch\n",
        ")"
      ],
      "execution_count": 0,
      "outputs": [
        {
          "output_type": "stream",
          "text": [
            "Epoch 11/20\n",
            "500/500 [==============================] - 234s 467ms/step - loss: 1.5759 - categorical_accuracy: 0.6210 - top_3_accuracy: 0.8031\n",
            "Uploaded to Drive\n",
            "Model saved in model_1_11\n",
            "Epoch 12/20\n",
            "500/500 [==============================] - 232s 463ms/step - loss: 1.5481 - categorical_accuracy: 0.6264 - top_3_accuracy: 0.8082\n",
            "Uploaded to Drive\n",
            "Model saved in model_1_12\n",
            "Epoch 13/20\n",
            "500/500 [==============================] - 233s 466ms/step - loss: 1.5418 - categorical_accuracy: 0.6276 - top_3_accuracy: 0.8087\n",
            "Uploaded to Drive\n",
            "Model saved in model_1_13\n",
            "Epoch 14/20\n",
            " 14/500 [..............................] - ETA: 3:45 - loss: 1.5496 - categorical_accuracy: 0.6271 - top_3_accuracy: 0.8064"
          ],
          "name": "stdout"
        },
        {
          "output_type": "error",
          "ename": "KeyboardInterrupt",
          "evalue": "ignored",
          "traceback": [
            "\u001b[0;31m\u001b[0m",
            "\u001b[0;31mKeyboardInterrupt\u001b[0mTraceback (most recent call last)",
            "\u001b[0;32m<ipython-input-182-e60a05937fde>\u001b[0m in \u001b[0;36m<module>\u001b[0;34m()\u001b[0m\n\u001b[0;32m----> 1\u001b[0;31m \u001b[0mget_ipython\u001b[0m\u001b[0;34m(\u001b[0m\u001b[0;34m)\u001b[0m\u001b[0;34m.\u001b[0m\u001b[0mrun_cell_magic\u001b[0m\u001b[0;34m(\u001b[0m\u001b[0;34mu'time'\u001b[0m\u001b[0;34m,\u001b[0m \u001b[0;34mu''\u001b[0m\u001b[0;34m,\u001b[0m \u001b[0;34mu'\\nMODEL_NAME = \"model_1\"\\nBATCH_SIZE = 680\\nSTEPS_PER_EPOCH = 500\\nEPOCHS=20\\n\\nlast_finished_epoch = 10\\n\\nif last_finished_epoch > 0:\\n    s = reset_tf_session()\\n    model_filename = MODEL_NAME+\"_\"+str(last_finished_epoch)\\n    # Download from Drive\\n#     last_weight_file = drive.CreateFile({\\'id\\': \\'186Z-YIvnOHN40w-rNuGXdRwVycQePTab\\'}) \\n#     last_weight_file.GetContentFile(\\'model_1_10\\')\\n    model_1 = load_model(model_filename, custom_objects={\"top_3_accuracy\": top_3_accuracy})\\n\\nhist_1 = model_1.fit_generator(\\n    train_iterator(BATCH_SIZE, 64), \\n    steps_per_epoch=STEPS_PER_EPOCH,\\n    epochs=EPOCHS,\\n    callbacks=[ModelSaveCallback(MODEL_NAME)],\\n    verbose=1,\\n    initial_epoch=last_finished_epoch\\n)'\u001b[0m\u001b[0;34m)\u001b[0m\u001b[0;34m\u001b[0m\u001b[0m\n\u001b[0m",
            "\u001b[0;32m/usr/local/lib/python2.7/dist-packages/IPython/core/interactiveshell.pyc\u001b[0m in \u001b[0;36mrun_cell_magic\u001b[0;34m(self, magic_name, line, cell)\u001b[0m\n\u001b[1;32m   2115\u001b[0m             \u001b[0mmagic_arg_s\u001b[0m \u001b[0;34m=\u001b[0m \u001b[0mself\u001b[0m\u001b[0;34m.\u001b[0m\u001b[0mvar_expand\u001b[0m\u001b[0;34m(\u001b[0m\u001b[0mline\u001b[0m\u001b[0;34m,\u001b[0m \u001b[0mstack_depth\u001b[0m\u001b[0;34m)\u001b[0m\u001b[0;34m\u001b[0m\u001b[0m\n\u001b[1;32m   2116\u001b[0m             \u001b[0;32mwith\u001b[0m \u001b[0mself\u001b[0m\u001b[0;34m.\u001b[0m\u001b[0mbuiltin_trap\u001b[0m\u001b[0;34m:\u001b[0m\u001b[0;34m\u001b[0m\u001b[0m\n\u001b[0;32m-> 2117\u001b[0;31m                 \u001b[0mresult\u001b[0m \u001b[0;34m=\u001b[0m \u001b[0mfn\u001b[0m\u001b[0;34m(\u001b[0m\u001b[0mmagic_arg_s\u001b[0m\u001b[0;34m,\u001b[0m \u001b[0mcell\u001b[0m\u001b[0;34m)\u001b[0m\u001b[0;34m\u001b[0m\u001b[0m\n\u001b[0m\u001b[1;32m   2118\u001b[0m             \u001b[0;32mreturn\u001b[0m \u001b[0mresult\u001b[0m\u001b[0;34m\u001b[0m\u001b[0m\n\u001b[1;32m   2119\u001b[0m \u001b[0;34m\u001b[0m\u001b[0m\n",
            "\u001b[0;32m<decorator-gen-60>\u001b[0m in \u001b[0;36mtime\u001b[0;34m(self, line, cell, local_ns)\u001b[0m\n",
            "\u001b[0;32m/usr/local/lib/python2.7/dist-packages/IPython/core/magic.pyc\u001b[0m in \u001b[0;36m<lambda>\u001b[0;34m(f, *a, **k)\u001b[0m\n\u001b[1;32m    186\u001b[0m     \u001b[0;31m# but it's overkill for just that one bit of state.\u001b[0m\u001b[0;34m\u001b[0m\u001b[0;34m\u001b[0m\u001b[0m\n\u001b[1;32m    187\u001b[0m     \u001b[0;32mdef\u001b[0m \u001b[0mmagic_deco\u001b[0m\u001b[0;34m(\u001b[0m\u001b[0marg\u001b[0m\u001b[0;34m)\u001b[0m\u001b[0;34m:\u001b[0m\u001b[0;34m\u001b[0m\u001b[0m\n\u001b[0;32m--> 188\u001b[0;31m         \u001b[0mcall\u001b[0m \u001b[0;34m=\u001b[0m \u001b[0;32mlambda\u001b[0m \u001b[0mf\u001b[0m\u001b[0;34m,\u001b[0m \u001b[0;34m*\u001b[0m\u001b[0ma\u001b[0m\u001b[0;34m,\u001b[0m \u001b[0;34m**\u001b[0m\u001b[0mk\u001b[0m\u001b[0;34m:\u001b[0m \u001b[0mf\u001b[0m\u001b[0;34m(\u001b[0m\u001b[0;34m*\u001b[0m\u001b[0ma\u001b[0m\u001b[0;34m,\u001b[0m \u001b[0;34m**\u001b[0m\u001b[0mk\u001b[0m\u001b[0;34m)\u001b[0m\u001b[0;34m\u001b[0m\u001b[0m\n\u001b[0m\u001b[1;32m    189\u001b[0m \u001b[0;34m\u001b[0m\u001b[0m\n\u001b[1;32m    190\u001b[0m         \u001b[0;32mif\u001b[0m \u001b[0mcallable\u001b[0m\u001b[0;34m(\u001b[0m\u001b[0marg\u001b[0m\u001b[0;34m)\u001b[0m\u001b[0;34m:\u001b[0m\u001b[0;34m\u001b[0m\u001b[0m\n",
            "\u001b[0;32m/usr/local/lib/python2.7/dist-packages/IPython/core/magics/execution.pyc\u001b[0m in \u001b[0;36mtime\u001b[0;34m(self, line, cell, local_ns)\u001b[0m\n\u001b[1;32m   1191\u001b[0m         \u001b[0;32melse\u001b[0m\u001b[0;34m:\u001b[0m\u001b[0;34m\u001b[0m\u001b[0m\n\u001b[1;32m   1192\u001b[0m             \u001b[0mst\u001b[0m \u001b[0;34m=\u001b[0m \u001b[0mclock2\u001b[0m\u001b[0;34m(\u001b[0m\u001b[0;34m)\u001b[0m\u001b[0;34m\u001b[0m\u001b[0m\n\u001b[0;32m-> 1193\u001b[0;31m             \u001b[0;32mexec\u001b[0m\u001b[0;34m(\u001b[0m\u001b[0mcode\u001b[0m\u001b[0;34m,\u001b[0m \u001b[0mglob\u001b[0m\u001b[0;34m,\u001b[0m \u001b[0mlocal_ns\u001b[0m\u001b[0;34m)\u001b[0m\u001b[0;34m\u001b[0m\u001b[0m\n\u001b[0m\u001b[1;32m   1194\u001b[0m             \u001b[0mend\u001b[0m \u001b[0;34m=\u001b[0m \u001b[0mclock2\u001b[0m\u001b[0;34m(\u001b[0m\u001b[0;34m)\u001b[0m\u001b[0;34m\u001b[0m\u001b[0m\n\u001b[1;32m   1195\u001b[0m             \u001b[0mout\u001b[0m \u001b[0;34m=\u001b[0m \u001b[0mNone\u001b[0m\u001b[0;34m\u001b[0m\u001b[0m\n",
            "\u001b[0;32m<timed exec>\u001b[0m in \u001b[0;36m<module>\u001b[0;34m()\u001b[0m\n",
            "\u001b[0;32m/usr/local/lib/python2.7/dist-packages/keras/legacy/interfaces.pyc\u001b[0m in \u001b[0;36mwrapper\u001b[0;34m(*args, **kwargs)\u001b[0m\n\u001b[1;32m     89\u001b[0m                 warnings.warn('Update your `' + object_name + '` call to the ' +\n\u001b[1;32m     90\u001b[0m                               'Keras 2 API: ' + signature, stacklevel=2)\n\u001b[0;32m---> 91\u001b[0;31m             \u001b[0;32mreturn\u001b[0m \u001b[0mfunc\u001b[0m\u001b[0;34m(\u001b[0m\u001b[0;34m*\u001b[0m\u001b[0margs\u001b[0m\u001b[0;34m,\u001b[0m \u001b[0;34m**\u001b[0m\u001b[0mkwargs\u001b[0m\u001b[0;34m)\u001b[0m\u001b[0;34m\u001b[0m\u001b[0m\n\u001b[0m\u001b[1;32m     92\u001b[0m         \u001b[0mwrapper\u001b[0m\u001b[0;34m.\u001b[0m\u001b[0m_original_function\u001b[0m \u001b[0;34m=\u001b[0m \u001b[0mfunc\u001b[0m\u001b[0;34m\u001b[0m\u001b[0m\n\u001b[1;32m     93\u001b[0m         \u001b[0;32mreturn\u001b[0m \u001b[0mwrapper\u001b[0m\u001b[0;34m\u001b[0m\u001b[0m\n",
            "\u001b[0;32m/usr/local/lib/python2.7/dist-packages/keras/engine/training.pyc\u001b[0m in \u001b[0;36mfit_generator\u001b[0;34m(self, generator, steps_per_epoch, epochs, verbose, callbacks, validation_data, validation_steps, class_weight, max_queue_size, workers, use_multiprocessing, shuffle, initial_epoch)\u001b[0m\n\u001b[1;32m   1416\u001b[0m             \u001b[0muse_multiprocessing\u001b[0m\u001b[0;34m=\u001b[0m\u001b[0muse_multiprocessing\u001b[0m\u001b[0;34m,\u001b[0m\u001b[0;34m\u001b[0m\u001b[0m\n\u001b[1;32m   1417\u001b[0m             \u001b[0mshuffle\u001b[0m\u001b[0;34m=\u001b[0m\u001b[0mshuffle\u001b[0m\u001b[0;34m,\u001b[0m\u001b[0;34m\u001b[0m\u001b[0m\n\u001b[0;32m-> 1418\u001b[0;31m             initial_epoch=initial_epoch)\n\u001b[0m\u001b[1;32m   1419\u001b[0m \u001b[0;34m\u001b[0m\u001b[0m\n\u001b[1;32m   1420\u001b[0m     \u001b[0;34m@\u001b[0m\u001b[0minterfaces\u001b[0m\u001b[0;34m.\u001b[0m\u001b[0mlegacy_generator_methods_support\u001b[0m\u001b[0;34m\u001b[0m\u001b[0m\n",
            "\u001b[0;32m/usr/local/lib/python2.7/dist-packages/keras/engine/training_generator.pyc\u001b[0m in \u001b[0;36mfit_generator\u001b[0;34m(model, generator, steps_per_epoch, epochs, verbose, callbacks, validation_data, validation_steps, class_weight, max_queue_size, workers, use_multiprocessing, shuffle, initial_epoch)\u001b[0m\n\u001b[1;32m    215\u001b[0m                 outs = model.train_on_batch(x, y,\n\u001b[1;32m    216\u001b[0m                                             \u001b[0msample_weight\u001b[0m\u001b[0;34m=\u001b[0m\u001b[0msample_weight\u001b[0m\u001b[0;34m,\u001b[0m\u001b[0;34m\u001b[0m\u001b[0m\n\u001b[0;32m--> 217\u001b[0;31m                                             class_weight=class_weight)\n\u001b[0m\u001b[1;32m    218\u001b[0m \u001b[0;34m\u001b[0m\u001b[0m\n\u001b[1;32m    219\u001b[0m                 \u001b[0mouts\u001b[0m \u001b[0;34m=\u001b[0m \u001b[0mto_list\u001b[0m\u001b[0;34m(\u001b[0m\u001b[0mouts\u001b[0m\u001b[0;34m)\u001b[0m\u001b[0;34m\u001b[0m\u001b[0m\n",
            "\u001b[0;32m/usr/local/lib/python2.7/dist-packages/keras/engine/training.pyc\u001b[0m in \u001b[0;36mtrain_on_batch\u001b[0;34m(self, x, y, sample_weight, class_weight)\u001b[0m\n\u001b[1;32m   1215\u001b[0m             \u001b[0mins\u001b[0m \u001b[0;34m=\u001b[0m \u001b[0mx\u001b[0m \u001b[0;34m+\u001b[0m \u001b[0my\u001b[0m \u001b[0;34m+\u001b[0m \u001b[0msample_weights\u001b[0m\u001b[0;34m\u001b[0m\u001b[0m\n\u001b[1;32m   1216\u001b[0m         \u001b[0mself\u001b[0m\u001b[0;34m.\u001b[0m\u001b[0m_make_train_function\u001b[0m\u001b[0;34m(\u001b[0m\u001b[0;34m)\u001b[0m\u001b[0;34m\u001b[0m\u001b[0m\n\u001b[0;32m-> 1217\u001b[0;31m         \u001b[0moutputs\u001b[0m \u001b[0;34m=\u001b[0m \u001b[0mself\u001b[0m\u001b[0;34m.\u001b[0m\u001b[0mtrain_function\u001b[0m\u001b[0;34m(\u001b[0m\u001b[0mins\u001b[0m\u001b[0;34m)\u001b[0m\u001b[0;34m\u001b[0m\u001b[0m\n\u001b[0m\u001b[1;32m   1218\u001b[0m         \u001b[0;32mreturn\u001b[0m \u001b[0munpack_singleton\u001b[0m\u001b[0;34m(\u001b[0m\u001b[0moutputs\u001b[0m\u001b[0;34m)\u001b[0m\u001b[0;34m\u001b[0m\u001b[0m\n\u001b[1;32m   1219\u001b[0m \u001b[0;34m\u001b[0m\u001b[0m\n",
            "\u001b[0;32m/usr/local/lib/python2.7/dist-packages/keras/backend/tensorflow_backend.pyc\u001b[0m in \u001b[0;36m__call__\u001b[0;34m(self, inputs)\u001b[0m\n\u001b[1;32m   2713\u001b[0m                 \u001b[0;32mreturn\u001b[0m \u001b[0mself\u001b[0m\u001b[0;34m.\u001b[0m\u001b[0m_legacy_call\u001b[0m\u001b[0;34m(\u001b[0m\u001b[0minputs\u001b[0m\u001b[0;34m)\u001b[0m\u001b[0;34m\u001b[0m\u001b[0m\n\u001b[1;32m   2714\u001b[0m \u001b[0;34m\u001b[0m\u001b[0m\n\u001b[0;32m-> 2715\u001b[0;31m             \u001b[0;32mreturn\u001b[0m \u001b[0mself\u001b[0m\u001b[0;34m.\u001b[0m\u001b[0m_call\u001b[0m\u001b[0;34m(\u001b[0m\u001b[0minputs\u001b[0m\u001b[0;34m)\u001b[0m\u001b[0;34m\u001b[0m\u001b[0m\n\u001b[0m\u001b[1;32m   2716\u001b[0m         \u001b[0;32melse\u001b[0m\u001b[0;34m:\u001b[0m\u001b[0;34m\u001b[0m\u001b[0m\n\u001b[1;32m   2717\u001b[0m             \u001b[0;32mif\u001b[0m \u001b[0mpy_any\u001b[0m\u001b[0;34m(\u001b[0m\u001b[0mis_tensor\u001b[0m\u001b[0;34m(\u001b[0m\u001b[0mx\u001b[0m\u001b[0;34m)\u001b[0m \u001b[0;32mfor\u001b[0m \u001b[0mx\u001b[0m \u001b[0;32min\u001b[0m \u001b[0minputs\u001b[0m\u001b[0;34m)\u001b[0m\u001b[0;34m:\u001b[0m\u001b[0;34m\u001b[0m\u001b[0m\n",
            "\u001b[0;32m/usr/local/lib/python2.7/dist-packages/keras/backend/tensorflow_backend.pyc\u001b[0m in \u001b[0;36m_call\u001b[0;34m(self, inputs)\u001b[0m\n\u001b[1;32m   2673\u001b[0m             \u001b[0mfetched\u001b[0m \u001b[0;34m=\u001b[0m \u001b[0mself\u001b[0m\u001b[0;34m.\u001b[0m\u001b[0m_callable_fn\u001b[0m\u001b[0;34m(\u001b[0m\u001b[0;34m*\u001b[0m\u001b[0marray_vals\u001b[0m\u001b[0;34m,\u001b[0m \u001b[0mrun_metadata\u001b[0m\u001b[0;34m=\u001b[0m\u001b[0mself\u001b[0m\u001b[0;34m.\u001b[0m\u001b[0mrun_metadata\u001b[0m\u001b[0;34m)\u001b[0m\u001b[0;34m\u001b[0m\u001b[0m\n\u001b[1;32m   2674\u001b[0m         \u001b[0;32melse\u001b[0m\u001b[0;34m:\u001b[0m\u001b[0;34m\u001b[0m\u001b[0m\n\u001b[0;32m-> 2675\u001b[0;31m             \u001b[0mfetched\u001b[0m \u001b[0;34m=\u001b[0m \u001b[0mself\u001b[0m\u001b[0;34m.\u001b[0m\u001b[0m_callable_fn\u001b[0m\u001b[0;34m(\u001b[0m\u001b[0;34m*\u001b[0m\u001b[0marray_vals\u001b[0m\u001b[0;34m)\u001b[0m\u001b[0;34m\u001b[0m\u001b[0m\n\u001b[0m\u001b[1;32m   2676\u001b[0m         \u001b[0;32mreturn\u001b[0m \u001b[0mfetched\u001b[0m\u001b[0;34m[\u001b[0m\u001b[0;34m:\u001b[0m\u001b[0mlen\u001b[0m\u001b[0;34m(\u001b[0m\u001b[0mself\u001b[0m\u001b[0;34m.\u001b[0m\u001b[0moutputs\u001b[0m\u001b[0;34m)\u001b[0m\u001b[0;34m]\u001b[0m\u001b[0;34m\u001b[0m\u001b[0m\n\u001b[1;32m   2677\u001b[0m \u001b[0;34m\u001b[0m\u001b[0m\n",
            "\u001b[0;32m/usr/local/lib/python2.7/dist-packages/tensorflow/python/client/session.pyc\u001b[0m in \u001b[0;36m__call__\u001b[0;34m(self, *args, **kwargs)\u001b[0m\n\u001b[1;32m   1437\u001b[0m           ret = tf_session.TF_SessionRunCallable(\n\u001b[1;32m   1438\u001b[0m               \u001b[0mself\u001b[0m\u001b[0;34m.\u001b[0m\u001b[0m_session\u001b[0m\u001b[0;34m.\u001b[0m\u001b[0m_session\u001b[0m\u001b[0;34m,\u001b[0m \u001b[0mself\u001b[0m\u001b[0;34m.\u001b[0m\u001b[0m_handle\u001b[0m\u001b[0;34m,\u001b[0m \u001b[0margs\u001b[0m\u001b[0;34m,\u001b[0m \u001b[0mstatus\u001b[0m\u001b[0;34m,\u001b[0m\u001b[0;34m\u001b[0m\u001b[0m\n\u001b[0;32m-> 1439\u001b[0;31m               run_metadata_ptr)\n\u001b[0m\u001b[1;32m   1440\u001b[0m         \u001b[0;32mif\u001b[0m \u001b[0mrun_metadata\u001b[0m\u001b[0;34m:\u001b[0m\u001b[0;34m\u001b[0m\u001b[0m\n\u001b[1;32m   1441\u001b[0m           \u001b[0mproto_data\u001b[0m \u001b[0;34m=\u001b[0m \u001b[0mtf_session\u001b[0m\u001b[0;34m.\u001b[0m\u001b[0mTF_GetBuffer\u001b[0m\u001b[0;34m(\u001b[0m\u001b[0mrun_metadata_ptr\u001b[0m\u001b[0;34m)\u001b[0m\u001b[0;34m\u001b[0m\u001b[0m\n",
            "\u001b[0;31mKeyboardInterrupt\u001b[0m: "
          ]
        }
      ]
    },
    {
      "metadata": {
        "id": "ssm29T6PFUdK",
        "colab_type": "text"
      },
      "cell_type": "markdown",
      "source": [
        "Stopped after 14, since accuracy didn't increase"
      ]
    },
    {
      "metadata": {
        "id": "HcoOKYsI4oTY",
        "colab_type": "code",
        "outputId": "3d6e8a9a-9075-4a5b-b1af-257a8daed4a4",
        "colab": {
          "base_uri": "https://localhost:8080/",
          "height": 626
        }
      },
      "cell_type": "code",
      "source": [
        "hist_df = pd.DataFrame(hist_1.history)\n",
        "fig, axs = plt.subplots(nrows=2, sharex=True, figsize=(16, 10))\n",
        "axs[0].plot(hist_df['top_3_accuracy'], lw=5, label='Training Accuracy')\n",
        "axs[0].set_ylabel('Accuracy')\n",
        "axs[0].set_xlabel('Epoch')\n",
        "axs[0].grid(\"on\")\n",
        "axs[0].legend(loc=0)\n",
        "axs[1].plot(hist_df.loss, lw=5, label='Training MLogLoss')\n",
        "axs[1].set_ylabel('MLogLoss')\n",
        "axs[1].set_xlabel('Epoch')\n",
        "axs[1].grid(\"on\")a\n",
        "axs[1].legend(loc=0)\n",
        "plt.show();"
      ],
      "execution_count": 0,
      "outputs": [
        {
          "output_type": "display_data",
          "data": {
            "image/png": "[encoded data removed]",
            "text/plain": [
              "<matplotlib.figure.Figure at 0x7f127024d4d0>"
            ]
          },
          "metadata": {
            "tags": []
          }
        }
      ]
    },
    {
      "metadata": {
        "id": "WEfANudSKOq6",
        "colab_type": "text"
      },
      "cell_type": "markdown",
      "source": [
        "<30min of training time, 1.6m parameters, PL=0.746\n"
      ]
    },
    {
      "metadata": {
        "id": "o3BfeGCbMaOr",
        "colab_type": "text"
      },
      "cell_type": "markdown",
      "source": [
        "## Model 2"
      ]
    },
    {
      "metadata": {
        "id": "zghUdFxuKa07",
        "colab_type": "text"
      },
      "cell_type": "markdown",
      "source": [
        "Lets add BatchNorm, hence decrease BATCH_SIZE"
      ]
    },
    {
      "metadata": {
        "id": "rhSy1Rg4L2f-",
        "colab_type": "code",
        "outputId": "ff4a0ad3-7036-4195-99c8-3b8cbceeed7c",
        "colab": {
          "base_uri": "https://localhost:8080/",
          "height": 612
        }
      },
      "cell_type": "code",
      "source": [
        "def make_model_2():\n",
        "    \"\"\"\n",
        "    Define your model architecture here.\n",
        "    Returns `Sequential` model.\n",
        "    \"\"\"\n",
        "    model = Sequential()\n",
        "    model.add(Conv2D(128, kernel_size=(3, 3), padding='same', activation='relu', input_shape=(64, 64, 1)))\n",
        "    model.add(BatchNormalization())\n",
        "    model.add(MaxPooling2D(pool_size=(2, 2), strides=(2, 2)))\n",
        "    model.add(Conv2D(64, kernel_size=(3, 3), activation='relu'))\n",
        "    model.add(BatchNormalization())\n",
        "    model.add(MaxPooling2D(pool_size=(2, 2), strides=(2, 2)))\n",
        "    model.add(Conv2D(32, kernel_size=(3, 3), activation='relu'))\n",
        "    model.add(BatchNormalization())\n",
        "    model.add(MaxPooling2D(pool_size=(2, 2), strides=(2, 2)))\n",
        "    model.add(Flatten())\n",
        "    model.add(Dense(1024, activation='relu'))\n",
        "    model.add(BatchNormalization())\n",
        "    model.add(Dropout(0.25))\n",
        "    model.add(Dense(NUM_CLASSES, activation=\"softmax\"))\n",
        "    \n",
        "    return model\n",
        "\n",
        "s = reset_tf_session()\n",
        "model_2 = make_model_2()\n",
        "model_2.summary()"
      ],
      "execution_count": 0,
      "outputs": [
        {
          "output_type": "stream",
          "text": [
            "_________________________________________________________________\n",
            "Layer (type)                 Output Shape              Param #   \n",
            "=================================================================\n",
            "conv2d_1 (Conv2D)            (None, 64, 64, 128)       1280      \n",
            "_________________________________________________________________\n",
            "batch_normalization_1 (Batch (None, 64, 64, 128)       512       \n",
            "_________________________________________________________________\n",
            "max_pooling2d_1 (MaxPooling2 (None, 32, 32, 128)       0         \n",
            "_________________________________________________________________\n",
            "conv2d_2 (Conv2D)            (None, 30, 30, 64)        73792     \n",
            "_________________________________________________________________\n",
            "batch_normalization_2 (Batch (None, 30, 30, 64)        256       \n",
            "_________________________________________________________________\n",
            "max_pooling2d_2 (MaxPooling2 (None, 15, 15, 64)        0         \n",
            "_________________________________________________________________\n",
            "conv2d_3 (Conv2D)            (None, 13, 13, 32)        18464     \n",
            "_________________________________________________________________\n",
            "batch_normalization_3 (Batch (None, 13, 13, 32)        128       \n",
            "_________________________________________________________________\n",
            "max_pooling2d_3 (MaxPooling2 (None, 6, 6, 32)          0         \n",
            "_________________________________________________________________\n",
            "flatten_1 (Flatten)          (None, 1152)              0         \n",
            "_________________________________________________________________\n",
            "dense_1 (Dense)              (None, 1024)              1180672   \n",
            "_________________________________________________________________\n",
            "batch_normalization_4 (Batch (None, 1024)              4096      \n",
            "_________________________________________________________________\n",
            "dropout_1 (Dropout)          (None, 1024)              0         \n",
            "_________________________________________________________________\n",
            "dense_2 (Dense)              (None, 340)               348500    \n",
            "=================================================================\n",
            "Total params: 1,627,700\n",
            "Trainable params: 1,625,204\n",
            "Non-trainable params: 2,496\n",
            "_________________________________________________________________\n"
          ],
          "name": "stdout"
        }
      ]
    },
    {
      "metadata": {
        "id": "ver_4xDKPUTr",
        "colab_type": "code",
        "colab": {}
      },
      "cell_type": "code",
      "source": [
        "model_2.compile(\n",
        "    loss='categorical_crossentropy',\n",
        "    optimizer=keras.optimizers.adam(lr=0.002, clipnorm=5.),\n",
        "    metrics=[categorical_accuracy, top_3_accuracy]\n",
        ")"
      ],
      "execution_count": 0,
      "outputs": []
    },
    {
      "metadata": {
        "id": "4i9GIGCXPbrA",
        "colab_type": "code",
        "outputId": "9db6e0a4-6438-4722-8506-204a40d6e8f8",
        "colab": {
          "base_uri": "https://localhost:8080/",
          "height": 411
        }
      },
      "cell_type": "code",
      "source": [
        "%%time\n",
        "BATCH_SIZE=32\n",
        "STEPS_PER_EPOCH=2000\n",
        "EPOCH=30\n",
        "\n",
        "MODEL_NAME = \"model_2\"\n",
        "last_finished_epoch = 25\n",
        "\n",
        "if last_finished_epoch > 0:\n",
        "    s = reset_tf_session()\n",
        "    model_filename = MODEL_NAME+\"_\"+str(last_finished_epoch)\n",
        "    model_2 = load_model(model_filename, custom_objects={\"top_3_accuracy\": top_3_accuracy})\n",
        "\n",
        "hist_2 = model_2.fit_generator(\n",
        "    train_iterator(BATCH_SIZE), \n",
        "    steps_per_epoch=STEPS_PER_EPOCH,\n",
        "    epochs=EPOCH,\n",
        "    callbacks=[ModelSaveCallback(MODEL_NAME)],\n",
        "    verbose=1,\n",
        "    initial_epoch=last_finished_epoch\n",
        ")"
      ],
      "execution_count": 0,
      "outputs": [
        {
          "output_type": "stream",
          "text": [
            "Epoch 26/30\n",
            "2000/2000 [==============================] - 118s 59ms/step - loss: 1.6393 - categorical_accuracy: 0.6043 - top_3_accuracy: 0.7894\n",
            "Uploaded to Drive\n",
            "Model saved in model_2_26\n",
            "Epoch 27/30\n",
            "2000/2000 [==============================] - 118s 59ms/step - loss: 1.6370 - categorical_accuracy: 0.6054 - top_3_accuracy: 0.7917\n",
            "Uploaded to Drive\n",
            "Model saved in model_2_27\n",
            "Epoch 28/30\n",
            "2000/2000 [==============================] - 117s 59ms/step - loss: 1.6205 - categorical_accuracy: 0.6090 - top_3_accuracy: 0.7935\n",
            "Uploaded to Drive\n",
            "Model saved in model_2_28\n",
            "Epoch 29/30\n",
            "2000/2000 [==============================] - 118s 59ms/step - loss: 1.6118 - categorical_accuracy: 0.6123 - top_3_accuracy: 0.7922\n",
            "Uploaded to Drive\n",
            "Model saved in model_2_29\n",
            "Epoch 30/30\n",
            "2000/2000 [==============================] - 117s 59ms/step - loss: 1.6234 - categorical_accuracy: 0.6051 - top_3_accuracy: 0.7920\n",
            "Uploaded to Drive\n",
            "Model saved in model_2_30\n",
            "CPU times: user 10min 4s, sys: 1min 16s, total: 11min 20s\n",
            "Wall time: 9min 59s\n"
          ],
          "name": "stdout"
        }
      ]
    },
    {
      "metadata": {
        "id": "ry2SWKBkQoG3",
        "colab_type": "text"
      },
      "cell_type": "markdown",
      "source": [
        "~1hour, 1.6m parameters, PL=0.706"
      ]
    },
    {
      "metadata": {
        "id": "s2pu_kQcic1X",
        "colab_type": "text"
      },
      "cell_type": "markdown",
      "source": [
        "My suggestion is that the iterator performs not well enough because we don't call all image generators equally, hence our model does not generalize well with small BATCH_SIZE, I would recommend increase BATCH_SIZE"
      ]
    },
    {
      "metadata": {
        "id": "2C9EOpISh63G",
        "colab_type": "text"
      },
      "cell_type": "markdown",
      "source": [
        "## Model 3"
      ]
    },
    {
      "metadata": {
        "id": "JoOZ_urndJk2",
        "colab_type": "text"
      },
      "cell_type": "markdown",
      "source": [
        "More filters+more layers+AveragePooling instead of flattening"
      ]
    },
    {
      "metadata": {
        "id": "fWtrOO1Lh4jq",
        "colab_type": "code",
        "outputId": "f07c8373-9eaf-4712-8456-f2ec5fe1b66e",
        "colab": {
          "base_uri": "https://localhost:8080/",
          "height": 952
        }
      },
      "cell_type": "code",
      "source": [
        "def make_model_3():\n",
        "    \"\"\"\n",
        "    Define your model architecture here.\n",
        "    Returns `Sequential` model.\n",
        "    \"\"\"\n",
        "    model = Sequential()\n",
        "    model.add(Conv2D(32, kernel_size=(3, 3), padding='same', activation='relu', input_shape=(64, 64, 1)))\n",
        "    model.add(BatchNormalization())\n",
        "    model.add(MaxPooling2D(pool_size=(2, 2), strides=(2, 2)))\n",
        "    model.add(Conv2D(64, kernel_size=(3, 3), padding='same', activation='relu'))\n",
        "    model.add(BatchNormalization())\n",
        "    model.add(MaxPooling2D(pool_size=(2, 2), strides=(2, 2)))\n",
        "    model.add(Conv2D(128, kernel_size=(3, 3), padding='same', activation='relu'))\n",
        "    model.add(BatchNormalization())\n",
        "    model.add(MaxPooling2D(pool_size=(2, 2), strides=(2, 2)))\n",
        "    model.add(Conv2D(256, kernel_size=(3, 3), padding='same', activation='relu'))\n",
        "    model.add(BatchNormalization())\n",
        "    model.add(MaxPooling2D(pool_size=(2, 2), strides=(2, 2)))\n",
        "    model.add(Conv2D(512, kernel_size=(3, 3), padding='same', activation='relu'))\n",
        "    model.add(BatchNormalization())\n",
        "    model.add(MaxPooling2D(pool_size=(2, 2), strides=(2, 2)))\n",
        "    model.add(Conv2D(1024, kernel_size=(1, 1), padding='same', activation='relu'))\n",
        "    model.add(BatchNormalization())\n",
        "    model.add(GlobalAveragePooling2D())\n",
        "    model.add(Dense(1024, activation='relu'))\n",
        "    model.add(BatchNormalization())\n",
        "    model.add(Dense(512, activation='relu'))\n",
        "    model.add(BatchNormalization())\n",
        "    model.add(Dropout(0.25))\n",
        "    model.add(Dense(NUM_CLASSES, activation=\"softmax\"))\n",
        "    \n",
        "    return model\n",
        "\n",
        "s = reset_tf_session()\n",
        "model_3 = make_model_3()\n",
        "model_3.summary()"
      ],
      "execution_count": 0,
      "outputs": [
        {
          "output_type": "stream",
          "text": [
            "_________________________________________________________________\n",
            "Layer (type)                 Output Shape              Param #   \n",
            "=================================================================\n",
            "conv2d_1 (Conv2D)            (None, 64, 64, 32)        320       \n",
            "_________________________________________________________________\n",
            "batch_normalization_1 (Batch (None, 64, 64, 32)        128       \n",
            "_________________________________________________________________\n",
            "max_pooling2d_1 (MaxPooling2 (None, 32, 32, 32)        0         \n",
            "_________________________________________________________________\n",
            "conv2d_2 (Conv2D)            (None, 32, 32, 64)        18496     \n",
            "_________________________________________________________________\n",
            "batch_normalization_2 (Batch (None, 32, 32, 64)        256       \n",
            "_________________________________________________________________\n",
            "max_pooling2d_2 (MaxPooling2 (None, 16, 16, 64)        0         \n",
            "_________________________________________________________________\n",
            "conv2d_3 (Conv2D)            (None, 16, 16, 128)       73856     \n",
            "_________________________________________________________________\n",
            "batch_normalization_3 (Batch (None, 16, 16, 128)       512       \n",
            "_________________________________________________________________\n",
            "max_pooling2d_3 (MaxPooling2 (None, 8, 8, 128)         0         \n",
            "_________________________________________________________________\n",
            "conv2d_4 (Conv2D)            (None, 8, 8, 256)         295168    \n",
            "_________________________________________________________________\n",
            "batch_normalization_4 (Batch (None, 8, 8, 256)         1024      \n",
            "_________________________________________________________________\n",
            "max_pooling2d_4 (MaxPooling2 (None, 4, 4, 256)         0         \n",
            "_________________________________________________________________\n",
            "conv2d_5 (Conv2D)            (None, 4, 4, 512)         1180160   \n",
            "_________________________________________________________________\n",
            "batch_normalization_5 (Batch (None, 4, 4, 512)         2048      \n",
            "_________________________________________________________________\n",
            "max_pooling2d_5 (MaxPooling2 (None, 2, 2, 512)         0         \n",
            "_________________________________________________________________\n",
            "conv2d_6 (Conv2D)            (None, 2, 2, 1024)        525312    \n",
            "_________________________________________________________________\n",
            "batch_normalization_6 (Batch (None, 2, 2, 1024)        4096      \n",
            "_________________________________________________________________\n",
            "global_average_pooling2d_1 ( (None, 1024)              0         \n",
            "_________________________________________________________________\n",
            "dense_1 (Dense)              (None, 1024)              1049600   \n",
            "_________________________________________________________________\n",
            "batch_normalization_7 (Batch (None, 1024)              4096      \n",
            "_________________________________________________________________\n",
            "dense_2 (Dense)              (None, 512)               524800    \n",
            "_________________________________________________________________\n",
            "batch_normalization_8 (Batch (None, 512)               2048      \n",
            "_________________________________________________________________\n",
            "dropout_1 (Dropout)          (None, 512)               0         \n",
            "_________________________________________________________________\n",
            "dense_3 (Dense)              (None, 340)               174420    \n",
            "=================================================================\n",
            "Total params: 3,856,340\n",
            "Trainable params: 3,849,236\n",
            "Non-trainable params: 7,104\n",
            "_________________________________________________________________\n"
          ],
          "name": "stdout"
        }
      ]
    },
    {
      "metadata": {
        "id": "rZHsHw7qh_IG",
        "colab_type": "code",
        "colab": {}
      },
      "cell_type": "code",
      "source": [
        "model_3.compile(\n",
        "    loss='categorical_crossentropy',\n",
        "    optimizer=keras.optimizers.adam(clipnorm=5.),\n",
        "    metrics=[categorical_accuracy, top_3_accuracy]\n",
        ")"
      ],
      "execution_count": 0,
      "outputs": []
    },
    {
      "metadata": {
        "id": "ZVvHuuXbh_FG",
        "colab_type": "code",
        "outputId": "d054c0d5-fc70-4784-cbff-dc674261c9d5",
        "colab": {
          "base_uri": "https://localhost:8080/",
          "height": 2128
        }
      },
      "cell_type": "code",
      "source": [
        "%%time\n",
        "BATCH_SIZE=32\n",
        "STEPS_PER_EPOCH=2000\n",
        "EPOCHS=40\n",
        "\n",
        "MODEL_NAME = \"model_3\"\n",
        "last_finished_epoch = 30\n",
        "\n",
        "if last_finished_epoch > 0:\n",
        "    s = reset_tf_session()\n",
        "    model_filename = MODEL_NAME+\"_\"+str(last_finished_epoch)\n",
        "    model_3 = load_model(model_filename, custom_objects={\"top_3_accuracy\": top_3_accuracy})\n",
        "\n",
        "hist_3 = model_3.fit_generator(\n",
        "    train_iterator(BATCH_SIZE), \n",
        "    steps_per_epoch=STEPS_PER_EPOCH,\n",
        "    epochs=EPOCHS,\n",
        "    callbacks=[ModelSaveCallback(MODEL_NAME)],\n",
        "    verbose=1,\n",
        "    initial_epoch=last_finished_epoch\n",
        ")"
      ],
      "execution_count": 0,
      "outputs": [
        {
          "output_type": "stream",
          "text": [
            "Epoch 1/30\n",
            "2000/2000 [==============================] - 139s 69ms/step - loss: 3.8392 - categorical_accuracy: 0.1951 - top_3_accuracy: 0.3517\n",
            "Uploaded to Drive\n",
            "Model saved in model_3_1\n",
            "Epoch 2/30\n",
            "2000/2000 [==============================] - 138s 69ms/step - loss: 2.6432 - categorical_accuracy: 0.3789 - top_3_accuracy: 0.5973\n",
            "Uploaded to Drive\n",
            "Model saved in model_3_2\n",
            "Epoch 3/30\n",
            "2000/2000 [==============================] - 138s 69ms/step - loss: 2.3084 - categorical_accuracy: 0.4507 - top_3_accuracy: 0.6645\n",
            "Uploaded to Drive\n",
            "Model saved in model_3_3\n",
            "Epoch 4/30\n",
            "2000/2000 [==============================] - 138s 69ms/step - loss: 2.1139 - categorical_accuracy: 0.4875 - top_3_accuracy: 0.7065\n",
            "Uploaded to Drive\n",
            "Model saved in model_3_4\n",
            "Epoch 5/30\n",
            "2000/2000 [==============================] - 138s 69ms/step - loss: 1.9831 - categorical_accuracy: 0.5189 - top_3_accuracy: 0.7300\n",
            "Uploaded to Drive\n",
            "Model saved in model_3_5\n",
            "Epoch 6/30\n",
            "2000/2000 [==============================] - 137s 68ms/step - loss: 1.8959 - categorical_accuracy: 0.5392 - top_3_accuracy: 0.7473\n",
            "Uploaded to Drive\n",
            "Model saved in model_3_6\n",
            "Epoch 7/30\n",
            "2000/2000 [==============================] - 138s 69ms/step - loss: 1.8077 - categorical_accuracy: 0.5549 - top_3_accuracy: 0.7630\n",
            "Uploaded to Drive\n",
            "Model saved in model_3_7\n",
            "Epoch 8/30\n",
            "1088/2000 [===============>..............] - ETA: 1:03 - loss: 1.7781 - categorical_accuracy: 0.5626 - top_3_accuracy: 0.7661"
          ],
          "name": "stdout"
        },
        {
          "output_type": "stream",
          "text": [
            "Exception tensorflow.python.framework.errors_impl.CancelledError: CancelledError() in <bound method _Callable.__del__ of <tensorflow.python.client.session._Callable object at 0x7f1232c5f690>> ignored\n"
          ],
          "name": "stderr"
        },
        {
          "output_type": "stream",
          "text": [
            "2000/2000 [==============================] - 139s 69ms/step - loss: 1.7693 - categorical_accuracy: 0.5655 - top_3_accuracy: 0.7685\n",
            "Uploaded to Drive\n",
            "Model saved in model_3_8\n",
            "Epoch 9/30\n",
            "2000/2000 [==============================] - 139s 69ms/step - loss: 1.7267 - categorical_accuracy: 0.5769 - top_3_accuracy: 0.7764\n",
            "Uploaded to Drive\n",
            "Model saved in model_3_9\n",
            "Epoch 10/30\n",
            "2000/2000 [==============================] - 138s 69ms/step - loss: 1.6801 - categorical_accuracy: 0.5860 - top_3_accuracy: 0.7855\n",
            "Uploaded to Drive\n",
            "Model saved in model_3_10\n",
            "Epoch 11/30\n",
            "2000/2000 [==============================] - 136s 68ms/step - loss: 1.6465 - categorical_accuracy: 0.5957 - top_3_accuracy: 0.7909\n",
            "Uploaded to Drive\n",
            "Model saved in model_3_11\n",
            "Epoch 12/30\n",
            "2000/2000 [==============================] - 140s 70ms/step - loss: 1.6184 - categorical_accuracy: 0.6015 - top_3_accuracy: 0.7939\n",
            "Uploaded to Drive\n",
            "Model saved in model_3_12\n",
            "Epoch 13/30\n",
            "2000/2000 [==============================] - 138s 69ms/step - loss: 1.6037 - categorical_accuracy: 0.6025 - top_3_accuracy: 0.7987\n",
            "Uploaded to Drive\n",
            "Model saved in model_3_13\n",
            "Epoch 14/30\n",
            "2000/2000 [==============================] - 138s 69ms/step - loss: 1.5603 - categorical_accuracy: 0.6139 - top_3_accuracy: 0.8058\n",
            "Uploaded to Drive\n",
            "Model saved in model_3_14\n",
            "Epoch 15/30\n",
            "2000/2000 [==============================] - 139s 69ms/step - loss: 1.5349 - categorical_accuracy: 0.6208 - top_3_accuracy: 0.8106\n",
            "Uploaded to Drive\n",
            "Model saved in model_3_15\n",
            "Epoch 16/30\n",
            "2000/2000 [==============================] - 137s 69ms/step - loss: 1.5134 - categorical_accuracy: 0.6262 - top_3_accuracy: 0.8132\n",
            "Uploaded to Drive\n",
            "Model saved in model_3_16\n",
            "Epoch 17/30\n",
            "2000/2000 [==============================] - 136s 68ms/step - loss: 1.4984 - categorical_accuracy: 0.6277 - top_3_accuracy: 0.8160\n",
            "Uploaded to Drive\n",
            "Model saved in model_3_17\n",
            "Epoch 18/30\n",
            "2000/2000 [==============================] - 138s 69ms/step - loss: 1.4843 - categorical_accuracy: 0.6331 - top_3_accuracy: 0.8188\n",
            "Uploaded to Drive\n",
            "Model saved in model_3_18\n",
            "Epoch 19/30\n",
            "2000/2000 [==============================] - 137s 69ms/step - loss: 1.4723 - categorical_accuracy: 0.6364 - top_3_accuracy: 0.8201\n",
            "Uploaded to Drive\n",
            "Model saved in model_3_19\n",
            "Epoch 20/30\n",
            "2000/2000 [==============================] - 139s 69ms/step - loss: 1.4426 - categorical_accuracy: 0.6389 - top_3_accuracy: 0.8242\n",
            "Uploaded to Drive\n",
            "Model saved in model_3_20\n",
            "Epoch 21/30\n",
            "2000/2000 [==============================] - 136s 68ms/step - loss: 1.4233 - categorical_accuracy: 0.6468 - top_3_accuracy: 0.8286\n",
            "Uploaded to Drive\n",
            "Model saved in model_3_21\n",
            "Epoch 22/30\n",
            "2000/2000 [==============================] - 135s 68ms/step - loss: 1.4275 - categorical_accuracy: 0.6451 - top_3_accuracy: 0.8280\n",
            "Uploaded to Drive\n",
            "Model saved in model_3_22\n",
            "Epoch 23/30\n",
            "2000/2000 [==============================] - 135s 67ms/step - loss: 1.4204 - categorical_accuracy: 0.6453 - top_3_accuracy: 0.8298\n",
            "Uploaded to Drive\n",
            "Model saved in model_3_23\n",
            "Epoch 24/30\n",
            "2000/2000 [==============================] - 137s 69ms/step - loss: 1.3872 - categorical_accuracy: 0.6539 - top_3_accuracy: 0.8336\n",
            "Uploaded to Drive\n",
            "Model saved in model_3_24\n",
            "Epoch 25/30\n",
            "2000/2000 [==============================] - 137s 68ms/step - loss: 1.3836 - categorical_accuracy: 0.6535 - top_3_accuracy: 0.8353\n",
            "Uploaded to Drive\n",
            "Model saved in model_3_25\n",
            "Epoch 26/30\n",
            "2000/2000 [==============================] - 135s 68ms/step - loss: 1.3784 - categorical_accuracy: 0.6547 - top_3_accuracy: 0.8343\n",
            "Uploaded to Drive\n",
            "Model saved in model_3_26\n",
            "Epoch 27/30\n",
            "2000/2000 [==============================] - 134s 67ms/step - loss: 1.3786 - categorical_accuracy: 0.6579 - top_3_accuracy: 0.8371\n",
            "Uploaded to Drive\n",
            "Model saved in model_3_27\n",
            "Epoch 28/30\n",
            "2000/2000 [==============================] - 134s 67ms/step - loss: 1.3667 - categorical_accuracy: 0.6585 - top_3_accuracy: 0.8378\n",
            "Uploaded to Drive\n",
            "Model saved in model_3_28\n",
            "Epoch 29/30\n",
            "2000/2000 [==============================] - 136s 68ms/step - loss: 1.3519 - categorical_accuracy: 0.6625 - top_3_accuracy: 0.8397\n",
            "Uploaded to Drive\n",
            "Model saved in model_3_29\n",
            "Epoch 30/30\n",
            "2000/2000 [==============================] - 138s 69ms/step - loss: 1.3538 - categorical_accuracy: 0.6632 - top_3_accuracy: 0.8398\n",
            "Uploaded to Drive\n",
            "Model saved in model_3_30\n",
            "CPU times: user 1h 23min 59s, sys: 11min 44s, total: 1h 35min 44s\n",
            "Wall time: 1h 9min 48s\n"
          ],
          "name": "stdout"
        }
      ]
    },
    {
      "metadata": {
        "id": "flx4L8HQkb5D",
        "colab_type": "code",
        "outputId": "7f116aad-25cb-4a69-a770-fd34cf40dd6e",
        "colab": {
          "base_uri": "https://localhost:8080/",
          "height": 606
        }
      },
      "cell_type": "code",
      "source": [
        "hist_df = pd.DataFrame(hist_3.history)\n",
        "fig, axs = plt.subplots(nrows=2, sharex=True, figsize=(16, 10))\n",
        "axs[0].plot(hist_df['top_3_accuracy'], lw=5, label='Training Accuracy')\n",
        "axs[0].set_ylabel('Accuracy')\n",
        "axs[0].set_xlabel('Epoch')\n",
        "axs[0].grid(\"on\")\n",
        "axs[0].legend(loc=0)\n",
        "axs[1].plot(hist_df.loss, lw=5, label='Training MLogLoss')\n",
        "axs[1].set_ylabel('MLogLoss')\n",
        "axs[1].set_xlabel('Epoch')\n",
        "axs[1].grid(\"on\")\n",
        "axs[1].legend(loc=0)\n",
        "plt.show();"
      ],
      "execution_count": 0,
      "outputs": [
        {
          "output_type": "display_data",
          "data": {
            "image/png": "[encoded data removed]",
            "text/plain": [
              "<matplotlib.figure.Figure at 0x7f123044a150>"
            ]
          },
          "metadata": {
            "tags": []
          }
        }
      ]
    },
    {
      "metadata": {
        "id": "EQOyWqYppcMg",
        "colab_type": "text"
      },
      "cell_type": "markdown",
      "source": [
        "1 hour, PL=0.789, lets train 10 more epochs"
      ]
    },
    {
      "metadata": {
        "id": "Y5Zv7kZRkjqG",
        "colab_type": "code",
        "outputId": "a9fd1686-a35b-4716-b039-f806c9e2dd97",
        "colab": {
          "base_uri": "https://localhost:8080/",
          "height": 751
        }
      },
      "cell_type": "code",
      "source": [
        "%%time\n",
        "BATCH_SIZE=32\n",
        "STEPS_PER_EPOCH=2000\n",
        "EPOCHS=40\n",
        "\n",
        "MODEL_NAME = \"model_3\"\n",
        "last_finished_epoch = 30\n",
        "\n",
        "if last_finished_epoch > 0:\n",
        "    s = reset_tf_session()\n",
        "    model_filename = MODEL_NAME+\"_\"+str(last_finished_epoch)\n",
        "    model_3 = load_model(model_filename, custom_objects={\"top_3_accuracy\": top_3_accuracy})\n",
        "\n",
        "hist_3 = model_3.fit_generator(\n",
        "    train_iterator(BATCH_SIZE), \n",
        "    steps_per_epoch=STEPS_PER_EPOCH,\n",
        "    epochs=EPOCHS,\n",
        "    callbacks=[ModelSaveCallback(MODEL_NAME)],\n",
        "    verbose=1,\n",
        "    initial_epoch=last_finished_epoch\n",
        ")"
      ],
      "execution_count": 0,
      "outputs": [
        {
          "output_type": "stream",
          "text": [
            "Epoch 31/40\n",
            "2000/2000 [==============================] - 137s 68ms/step - loss: 1.3424 - categorical_accuracy: 0.6647 - top_3_accuracy: 0.8417\n",
            "Uploaded to Drive\n",
            "Model saved in model_3_31\n",
            "Epoch 32/40\n",
            "2000/2000 [==============================] - 136s 68ms/step - loss: 1.3291 - categorical_accuracy: 0.6680 - top_3_accuracy: 0.8452\n",
            "Uploaded to Drive\n",
            "Model saved in model_3_32\n",
            "Epoch 33/40\n",
            "2000/2000 [==============================] - 138s 69ms/step - loss: 1.3280 - categorical_accuracy: 0.6690 - top_3_accuracy: 0.8432\n",
            "Uploaded to Drive\n",
            "Model saved in model_3_33\n",
            "Epoch 34/40\n",
            "2000/2000 [==============================] - 137s 69ms/step - loss: 1.3060 - categorical_accuracy: 0.6704 - top_3_accuracy: 0.8472\n",
            "Uploaded to Drive\n",
            "Model saved in model_3_34\n",
            "Epoch 35/40\n",
            "2000/2000 [==============================] - 135s 67ms/step - loss: 1.3065 - categorical_accuracy: 0.6715 - top_3_accuracy: 0.8473\n",
            "Uploaded to Drive\n",
            "Model saved in model_3_35\n",
            "Epoch 36/40\n",
            "2000/2000 [==============================] - 137s 68ms/step - loss: 1.2937 - categorical_accuracy: 0.6762 - top_3_accuracy: 0.8506\n",
            "Uploaded to Drive\n",
            "Model saved in model_3_36\n",
            "Epoch 37/40\n",
            "2000/2000 [==============================] - 137s 68ms/step - loss: 1.2799 - categorical_accuracy: 0.6770 - top_3_accuracy: 0.8519\n",
            "Uploaded to Drive\n",
            "Model saved in model_3_37\n",
            "Epoch 38/40\n",
            "2000/2000 [==============================] - 136s 68ms/step - loss: 1.2693 - categorical_accuracy: 0.6823 - top_3_accuracy: 0.8524\n",
            "Uploaded to Drive\n",
            "Model saved in model_3_38\n",
            "Epoch 39/40\n",
            "2000/2000 [==============================] - 135s 67ms/step - loss: 1.2849 - categorical_accuracy: 0.6802 - top_3_accuracy: 0.8513\n",
            "Uploaded to Drive\n",
            "Model saved in model_3_39\n",
            "Epoch 40/40\n",
            "2000/2000 [==============================] - 137s 68ms/step - loss: 1.2674 - categorical_accuracy: 0.6825 - top_3_accuracy: 0.8524\n",
            "Uploaded to Drive\n",
            "Model saved in model_3_40\n",
            "CPU times: user 27min 45s, sys: 3min 50s, total: 31min 35s\n",
            "Wall time: 23min 17s\n"
          ],
          "name": "stdout"
        }
      ]
    },
    {
      "metadata": {
        "id": "n11M1mNTrCZI",
        "colab_type": "text"
      },
      "cell_type": "markdown",
      "source": [
        "PL=0.800 🎉"
      ]
    },
    {
      "metadata": {
        "id": "vThk2xRLjiS1",
        "colab_type": "text"
      },
      "cell_type": "markdown",
      "source": [
        "A good result but still not enough, I would still recommend increase BATCH_SIZE"
      ]
    },
    {
      "metadata": {
        "id": "Y5sgVYwd7KA5",
        "colab_type": "text"
      },
      "cell_type": "markdown",
      "source": [
        "## Data Augmentation"
      ]
    },
    {
      "metadata": {
        "id": "yPqMq60VuFdU",
        "colab_type": "code",
        "colab": {}
      },
      "cell_type": "code",
      "source": [
        "from keras.preprocessing.image import ImageDataGenerator"
      ],
      "execution_count": 0,
      "outputs": []
    },
    {
      "metadata": {
        "id": "nFhJBLLCteWr",
        "colab_type": "code",
        "colab": {}
      },
      "cell_type": "code",
      "source": [
        "image_gen = ImageDataGenerator(\n",
        "    rotation_range=40,\n",
        "    shear_range=0.2,\n",
        "    zoom_range=0.2,\n",
        "    fill_mode='constant',\n",
        "    cval=0\n",
        ")"
      ],
      "execution_count": 0,
      "outputs": []
    },
    {
      "metadata": {
        "id": "_aNYSxY3kJZk",
        "colab_type": "text"
      },
      "cell_type": "markdown",
      "source": [
        "Lets creare image generator with augmentation "
      ]
    },
    {
      "metadata": {
        "id": "XVDXB_BsE0as",
        "colab_type": "code",
        "colab": {}
      },
      "cell_type": "code",
      "source": [
        "def images_and_labels_generator_with_augm(batch_size, img_size):\n",
        "    for batch in raw_batch_generator(batch_size):\n",
        "        batch_images = []\n",
        "        batch_labels = []\n",
        "        for e in batch:\n",
        "            image = draw_cv2(e[0], img_size)\n",
        "            image = np.tile(np.expand_dims(image, axis=2), (1, 1, 3))\n",
        "            image = image_gen.random_transform(image)[:, :, 0]\n",
        "            batch_images.append(image)\n",
        "            batch_labels.append(e[1])\n",
        "        batch_images = np.stack(batch_images, axis=0)\n",
        "        yield batch_images, batch_labels"
      ],
      "execution_count": 0,
      "outputs": []
    },
    {
      "metadata": {
        "id": "Tsn5iV6dkPKS",
        "colab_type": "code",
        "outputId": "dc4bb476-0b11-454b-9513-40b0a7f960f2",
        "colab": {
          "base_uri": "https://localhost:8080/",
          "height": 1332
        }
      },
      "cell_type": "code",
      "source": [
        "b = images_and_labels_generator_with_augm(32, 128).next()\n",
        "for i in range(5):\n",
        "    plt.imshow(b[0][i, :, :])\n",
        "    plt.title(b[1][i])\n",
        "    plt.grid('off')\n",
        "    plt.show()\n"
      ],
      "execution_count": 0,
      "outputs": [
        {
          "output_type": "display_data",
          "data": {
            "image/png": "[encoded data removed]",
            "text/plain": [
              "<matplotlib.figure.Figure at 0x7fd524291350>"
            ]
          },
          "metadata": {
            "tags": []
          }
        },
        {
          "output_type": "display_data",
          "data": {
            "image/png": "[encoded data removed]",
            "text/plain": [
              "<matplotlib.figure.Figure at 0x7fd5241ac090>"
            ]
          },
          "metadata": {
            "tags": []
          }
        },
        {
          "output_type": "display_data",
          "data": {
            "image/png": "[encoded data removed]",
            "text/plain": [
              "<matplotlib.figure.Figure at 0x7fd524231310>"
            ]
          },
          "metadata": {
            "tags": []
          }
        },
        {
          "output_type": "display_data",
          "data": {
            "image/png": "[encoded data removed]",
            "text/plain": [
              "<matplotlib.figure.Figure at 0x7fd52417ab90>"
            ]
          },
          "metadata": {
            "tags": []
          }
        },
        {
          "output_type": "display_data",
          "data": {
            "image/png": "[encoded data removed]",
            "text/plain": [
              "<matplotlib.figure.Figure at 0x7fd52405cf10>"
            ]
          },
          "metadata": {
            "tags": []
          }
        }
      ]
    },
    {
      "metadata": {
        "id": "iSqnCmqplS1N",
        "colab_type": "code",
        "colab": {}
      },
      "cell_type": "code",
      "source": [
        "def train_iterator_with_augm(batch_size, img_size=BASE_SIZE):\n",
        "    for batch in images_and_labels_generator_with_augm(batch_size, img_size):\n",
        "        images = batch[0].astype('float32')\n",
        "        ### YOUR CODE HERE: normalize images!\n",
        "        images = np.divide(images, 255.)\n",
        "        images = np.expand_dims(images, -1)\n",
        "        labels = keras.utils.to_categorical(map(class_to_idx.get, batch[1]), NUM_CLASSES)\n",
        "        yield images, labels"
      ],
      "execution_count": 0,
      "outputs": []
    },
    {
      "metadata": {
        "id": "SFxlzam9ld5K",
        "colab_type": "text"
      },
      "cell_type": "markdown",
      "source": [
        "## Model 4 (using augmentation)"
      ]
    },
    {
      "metadata": {
        "id": "Ae7dT9dEl7ZE",
        "colab_type": "text"
      },
      "cell_type": "markdown",
      "source": [
        "Lets train third model (from 40 epoch's checkpoint) on augmented data"
      ]
    },
    {
      "metadata": {
        "id": "mQrWiBx1leGk",
        "colab_type": "code",
        "outputId": "bd67c1a3-2770-4eef-e6fe-2addf4975cce",
        "colab": {
          "base_uri": "https://localhost:8080/",
          "height": 2111
        }
      },
      "cell_type": "code",
      "source": [
        "%%time\n",
        "BATCH_SIZE=32\n",
        "STEPS_PER_EPOCH=2000\n",
        "EPOCHS=30\n",
        "\n",
        "MODEL_NAME = \"model_4\"\n",
        "last_finished_epoch = 0\n",
        "\n",
        "s = reset_tf_session()\n",
        "model_filename = \"model_3_40\"\n",
        "model_3 = load_model(model_filename, custom_objects={\"top_3_accuracy\": top_3_accuracy})\n",
        "\n",
        "hist_4 = model_3.fit_generator(\n",
        "    train_iterator_with_augm(BATCH_SIZE, 64), # changed iterator\n",
        "    steps_per_epoch=STEPS_PER_EPOCH,\n",
        "    epochs=EPOCHS,\n",
        "    callbacks=[ModelSaveCallback(MODEL_NAME)],\n",
        "    verbose=1,\n",
        "    initial_epoch=last_finished_epoch\n",
        ")"
      ],
      "execution_count": 0,
      "outputs": [
        {
          "output_type": "stream",
          "text": [
            "Epoch 1/30\n",
            "2000/2000 [==============================] - 177s 89ms/step - loss: 2.1305 - categorical_accuracy: 0.4921 - top_3_accuracy: 0.6926\n",
            "Uploaded to Drive\n",
            "Model saved in model_4_1\n",
            "Epoch 2/30\n",
            "2000/2000 [==============================] - 178s 89ms/step - loss: 1.9135 - categorical_accuracy: 0.5333 - top_3_accuracy: 0.7359\n",
            "Uploaded to Drive\n",
            "Model saved in model_4_2\n",
            "Epoch 3/30\n",
            "2000/2000 [==============================] - 177s 88ms/step - loss: 1.8414 - categorical_accuracy: 0.5495 - top_3_accuracy: 0.7500\n",
            "Uploaded to Drive\n",
            "Model saved in model_4_3\n",
            "Epoch 4/30\n",
            "2000/2000 [==============================] - 176s 88ms/step - loss: 1.7982 - categorical_accuracy: 0.5595 - top_3_accuracy: 0.7569\n",
            "Uploaded to Drive\n",
            "Model saved in model_4_4\n",
            "Epoch 5/30\n",
            "2000/2000 [==============================] - 176s 88ms/step - loss: 1.7636 - categorical_accuracy: 0.5653 - top_3_accuracy: 0.7639\n",
            "Uploaded to Drive\n",
            "Model saved in model_4_5\n",
            "Epoch 6/30\n",
            "2000/2000 [==============================] - 176s 88ms/step - loss: 1.7327 - categorical_accuracy: 0.5740 - top_3_accuracy: 0.7709\n",
            "Uploaded to Drive\n",
            "Model saved in model_4_6\n",
            "Epoch 7/30\n",
            "2000/2000 [==============================] - 177s 89ms/step - loss: 1.7084 - categorical_accuracy: 0.5763 - top_3_accuracy: 0.7743\n",
            "Uploaded to Drive\n",
            "Model saved in model_4_7\n",
            "Epoch 8/30\n",
            "2000/2000 [==============================] - 176s 88ms/step - loss: 1.6944 - categorical_accuracy: 0.5820 - top_3_accuracy: 0.7779\n",
            "Uploaded to Drive\n",
            "Model saved in model_4_8\n",
            "Epoch 9/30\n",
            "2000/2000 [==============================] - 176s 88ms/step - loss: 1.6957 - categorical_accuracy: 0.5813 - top_3_accuracy: 0.7798\n",
            "Uploaded to Drive\n",
            "Model saved in model_4_9\n",
            "Epoch 10/30\n",
            "2000/2000 [==============================] - 177s 88ms/step - loss: 1.6722 - categorical_accuracy: 0.5872 - top_3_accuracy: 0.7810\n",
            "Uploaded to Drive\n",
            "Model saved in model_4_10\n",
            "Epoch 11/30\n",
            "2000/2000 [==============================] - 177s 88ms/step - loss: 1.6913 - categorical_accuracy: 0.5822 - top_3_accuracy: 0.7779\n",
            "Uploaded to Drive\n",
            "Model saved in model_4_11\n",
            "Epoch 12/30\n",
            "2000/2000 [==============================] - 177s 88ms/step - loss: 1.6862 - categorical_accuracy: 0.5856 - top_3_accuracy: 0.7804\n",
            "Uploaded to Drive\n",
            "Model saved in model_4_12\n",
            "Epoch 13/30\n",
            "2000/2000 [==============================] - 177s 88ms/step - loss: 1.6596 - categorical_accuracy: 0.5899 - top_3_accuracy: 0.7849\n",
            "Uploaded to Drive\n",
            "Model saved in model_4_13\n",
            "Epoch 14/30\n",
            "2000/2000 [==============================] - 176s 88ms/step - loss: 1.6600 - categorical_accuracy: 0.5900 - top_3_accuracy: 0.7850\n",
            "Uploaded to Drive\n",
            "Model saved in model_4_14\n",
            "Epoch 15/30\n",
            "2000/2000 [==============================] - 176s 88ms/step - loss: 1.6421 - categorical_accuracy: 0.5959 - top_3_accuracy: 0.7868\n",
            "Uploaded to Drive\n",
            "Model saved in model_4_15\n",
            "Epoch 16/30\n",
            "2000/2000 [==============================] - 176s 88ms/step - loss: 1.6363 - categorical_accuracy: 0.5944 - top_3_accuracy: 0.7887\n",
            "Uploaded to Drive\n",
            "Model saved in model_4_16\n",
            "Epoch 17/30\n",
            "2000/2000 [==============================] - 176s 88ms/step - loss: 1.6219 - categorical_accuracy: 0.5959 - top_3_accuracy: 0.7903\n",
            "Uploaded to Drive\n",
            "Model saved in model_4_17\n",
            "Epoch 18/30\n",
            "2000/2000 [==============================] - 178s 89ms/step - loss: 1.6176 - categorical_accuracy: 0.5998 - top_3_accuracy: 0.7918\n",
            "Uploaded to Drive\n",
            "Model saved in model_4_18\n",
            "Epoch 19/30\n",
            "2000/2000 [==============================] - 177s 88ms/step - loss: 1.6176 - categorical_accuracy: 0.5996 - top_3_accuracy: 0.7914\n",
            "Uploaded to Drive\n",
            "Model saved in model_4_19\n",
            "Epoch 20/30\n",
            "2000/2000 [==============================] - 177s 88ms/step - loss: 1.6100 - categorical_accuracy: 0.6030 - top_3_accuracy: 0.7934\n",
            "Uploaded to Drive\n",
            "Model saved in model_4_20\n",
            "Epoch 21/30\n",
            "2000/2000 [==============================] - 177s 88ms/step - loss: 1.5834 - categorical_accuracy: 0.6053 - top_3_accuracy: 0.7973\n",
            "Uploaded to Drive\n",
            "Model saved in model_4_21\n",
            "Epoch 22/30\n",
            "2000/2000 [==============================] - 176s 88ms/step - loss: 1.6007 - categorical_accuracy: 0.6024 - top_3_accuracy: 0.7931\n",
            "Uploaded to Drive\n",
            "Model saved in model_4_22\n",
            "Epoch 23/30\n",
            "2000/2000 [==============================] - 180s 90ms/step - loss: 1.5838 - categorical_accuracy: 0.6076 - top_3_accuracy: 0.7984\n",
            "Uploaded to Drive\n",
            "Model saved in model_4_23\n",
            "Epoch 24/30\n",
            "2000/2000 [==============================] - 180s 90ms/step - loss: 1.5791 - categorical_accuracy: 0.6068 - top_3_accuracy: 0.7985\n",
            "Uploaded to Drive\n",
            "Model saved in model_4_24\n",
            "Epoch 25/30\n",
            "2000/2000 [==============================] - 179s 89ms/step - loss: 1.5629 - categorical_accuracy: 0.6139 - top_3_accuracy: 0.8011\n",
            "Uploaded to Drive\n",
            "Model saved in model_4_25\n",
            "Epoch 26/30\n",
            "2000/2000 [==============================] - 180s 90ms/step - loss: 1.5617 - categorical_accuracy: 0.6120 - top_3_accuracy: 0.8013\n",
            "Uploaded to Drive\n",
            "Model saved in model_4_26\n",
            "Epoch 27/30\n",
            "2000/2000 [==============================] - 181s 90ms/step - loss: 1.5567 - categorical_accuracy: 0.6156 - top_3_accuracy: 0.8021\n",
            "Uploaded to Drive\n",
            "Model saved in model_4_27\n",
            "Epoch 28/30\n",
            "2000/2000 [==============================] - 179s 90ms/step - loss: 1.5516 - categorical_accuracy: 0.6141 - top_3_accuracy: 0.8022\n",
            "Uploaded to Drive\n",
            "Model saved in model_4_28\n",
            "Epoch 29/30\n",
            "2000/2000 [==============================] - 179s 89ms/step - loss: 1.5566 - categorical_accuracy: 0.6146 - top_3_accuracy: 0.8032\n",
            "Uploaded to Drive\n",
            "Model saved in model_4_29\n",
            "Epoch 30/30\n",
            "2000/2000 [==============================] - 180s 90ms/step - loss: 1.5475 - categorical_accuracy: 0.6170 - top_3_accuracy: 0.8043\n",
            "Uploaded to Drive\n",
            "Model saved in model_4_30\n",
            "CPU times: user 2h 25min 25s, sys: 11min 22s, total: 2h 36min 47s\n",
            "Wall time: 1h 30min 11s\n"
          ],
          "name": "stdout"
        }
      ]
    },
    {
      "metadata": {
        "id": "QGCuJDgDGhHV",
        "colab_type": "text"
      },
      "cell_type": "markdown",
      "source": [
        "1.5 hour, PL=0.798"
      ]
    },
    {
      "metadata": {
        "id": "OIGWw_i1k5Pe",
        "colab_type": "text"
      },
      "cell_type": "markdown",
      "source": [
        "The same quality, the model performs neither worse nor better"
      ]
    },
    {
      "metadata": {
        "id": "9esK1H9SJfAp",
        "colab_type": "text"
      },
      "cell_type": "markdown",
      "source": [
        "## Model 5"
      ]
    },
    {
      "metadata": {
        "id": "hhbCil9LlWGh",
        "colab_type": "text"
      },
      "cell_type": "markdown",
      "source": [
        "Lets take third model and increase BATCH_SIZE and IMG_SIZE"
      ]
    },
    {
      "metadata": {
        "id": "XWz3oHp1KxxU",
        "colab_type": "code",
        "colab": {}
      },
      "cell_type": "code",
      "source": [
        "def make_model_5():\n",
        "    \"\"\"\n",
        "    Define your model architecture here.\n",
        "    Returns `Sequential` model.\n",
        "    \"\"\"\n",
        "    model = Sequential()\n",
        "    model.add(Conv2D(32, kernel_size=(3, 3), padding='same', activation='relu', input_shape=(128, 128, 1)))\n",
        "    model.add(BatchNormalization())\n",
        "    model.add(MaxPooling2D(pool_size=(2, 2), strides=(2, 2)))\n",
        "    model.add(Conv2D(64, kernel_size=(3, 3), padding='same', activation='relu'))\n",
        "    model.add(BatchNormalization())\n",
        "    model.add(MaxPooling2D(pool_size=(2, 2), strides=(2, 2)))\n",
        "    model.add(Conv2D(128, kernel_size=(3, 3), padding='same', activation='relu'))\n",
        "    model.add(BatchNormalization())\n",
        "    model.add(MaxPooling2D(pool_size=(2, 2), strides=(2, 2)))\n",
        "    model.add(Conv2D(256, kernel_size=(3, 3), padding='same', activation='relu'))\n",
        "    model.add(BatchNormalization())\n",
        "    model.add(MaxPooling2D(pool_size=(2, 2), strides=(2, 2)))\n",
        "    model.add(Conv2D(512, kernel_size=(3, 3), padding='same', activation='relu'))\n",
        "    model.add(BatchNormalization())\n",
        "    model.add(MaxPooling2D(pool_size=(2, 2), strides=(2, 2)))\n",
        "    model.add(Conv2D(1024, kernel_size=(1, 1), padding='same', activation='relu'))\n",
        "    model.add(BatchNormalization())\n",
        "    model.add(GlobalAveragePooling2D())\n",
        "    model.add(Dense(1024, activation='relu'))\n",
        "    model.add(BatchNormalization())\n",
        "    model.add(Dense(512, activation='relu'))\n",
        "    model.add(BatchNormalization())\n",
        "    model.add(Dropout(0.25))\n",
        "    model.add(Dense(NUM_CLASSES, activation=\"softmax\"))\n",
        "    \n",
        "    return model"
      ],
      "execution_count": 0,
      "outputs": []
    },
    {
      "metadata": {
        "id": "6DDHTpAmJhjO",
        "colab_type": "code",
        "colab": {}
      },
      "cell_type": "code",
      "source": [
        "s = reset_tf_session()\n",
        "model_5 = make_model_5()\n",
        "\n",
        "model_5.compile(\n",
        "    loss='categorical_crossentropy',\n",
        "    optimizer=keras.optimizers.adam(clipnorm=5.),\n",
        "    metrics=[categorical_accuracy, top_3_accuracy]\n",
        ")"
      ],
      "execution_count": 0,
      "outputs": []
    },
    {
      "metadata": {
        "id": "Stjb-7V7Enu_",
        "colab_type": "code",
        "outputId": "84d0e7b7-7072-4946-8ac4-05dfc0af9201",
        "colab": {
          "base_uri": "https://localhost:8080/",
          "height": 969
        }
      },
      "cell_type": "code",
      "source": [
        "print(model_5.summary())"
      ],
      "execution_count": 0,
      "outputs": [
        {
          "output_type": "stream",
          "text": [
            "_________________________________________________________________\n",
            "Layer (type)                 Output Shape              Param #   \n",
            "=================================================================\n",
            "conv2d_1 (Conv2D)            (None, 128, 128, 32)      320       \n",
            "_________________________________________________________________\n",
            "batch_normalization_1 (Batch (None, 128, 128, 32)      128       \n",
            "_________________________________________________________________\n",
            "max_pooling2d_1 (MaxPooling2 (None, 64, 64, 32)        0         \n",
            "_________________________________________________________________\n",
            "conv2d_2 (Conv2D)            (None, 64, 64, 64)        18496     \n",
            "_________________________________________________________________\n",
            "batch_normalization_2 (Batch (None, 64, 64, 64)        256       \n",
            "_________________________________________________________________\n",
            "max_pooling2d_2 (MaxPooling2 (None, 32, 32, 64)        0         \n",
            "_________________________________________________________________\n",
            "conv2d_3 (Conv2D)            (None, 32, 32, 128)       73856     \n",
            "_________________________________________________________________\n",
            "batch_normalization_3 (Batch (None, 32, 32, 128)       512       \n",
            "_________________________________________________________________\n",
            "max_pooling2d_3 (MaxPooling2 (None, 16, 16, 128)       0         \n",
            "_________________________________________________________________\n",
            "conv2d_4 (Conv2D)            (None, 16, 16, 256)       295168    \n",
            "_________________________________________________________________\n",
            "batch_normalization_4 (Batch (None, 16, 16, 256)       1024      \n",
            "_________________________________________________________________\n",
            "max_pooling2d_4 (MaxPooling2 (None, 8, 8, 256)         0         \n",
            "_________________________________________________________________\n",
            "conv2d_5 (Conv2D)            (None, 8, 8, 512)         1180160   \n",
            "_________________________________________________________________\n",
            "batch_normalization_5 (Batch (None, 8, 8, 512)         2048      \n",
            "_________________________________________________________________\n",
            "max_pooling2d_5 (MaxPooling2 (None, 4, 4, 512)         0         \n",
            "_________________________________________________________________\n",
            "conv2d_6 (Conv2D)            (None, 4, 4, 1024)        525312    \n",
            "_________________________________________________________________\n",
            "batch_normalization_6 (Batch (None, 4, 4, 1024)        4096      \n",
            "_________________________________________________________________\n",
            "global_average_pooling2d_1 ( (None, 1024)              0         \n",
            "_________________________________________________________________\n",
            "dense_1 (Dense)              (None, 1024)              1049600   \n",
            "_________________________________________________________________\n",
            "batch_normalization_7 (Batch (None, 1024)              4096      \n",
            "_________________________________________________________________\n",
            "dense_2 (Dense)              (None, 512)               524800    \n",
            "_________________________________________________________________\n",
            "batch_normalization_8 (Batch (None, 512)               2048      \n",
            "_________________________________________________________________\n",
            "dropout_1 (Dropout)          (None, 512)               0         \n",
            "_________________________________________________________________\n",
            "dense_3 (Dense)              (None, 340)               174420    \n",
            "=================================================================\n",
            "Total params: 3,856,340\n",
            "Trainable params: 3,849,236\n",
            "Non-trainable params: 7,104\n",
            "_________________________________________________________________\n",
            "None\n"
          ],
          "name": "stdout"
        }
      ]
    },
    {
      "metadata": {
        "id": "pYIPjzBXJhhA",
        "colab_type": "code",
        "outputId": "7fa1a116-fee2-4732-e760-3f2103a6eb7c",
        "colab": {
          "base_uri": "https://localhost:8080/",
          "height": 411
        }
      },
      "cell_type": "code",
      "source": [
        "%%time\n",
        "BATCH_SIZE=340\n",
        "STEPS_PER_EPOCH=2000\n",
        "EPOCHS=5\n",
        "IMG_SIZE=128\n",
        "\n",
        "MODEL_NAME = \"model_5\"\n",
        "last_finished_epoch = 0\n",
        "\n",
        "if last_finished_epoch > 0:\n",
        "    s = reset_tf_session()\n",
        "    model_filename = MODEL_NAME+\"_\"+str(last_finished_epoch)\n",
        "    model_5 = load_model(model_filename, custom_objects={\"top_3_accuracy\": top_3_accuracy})\n",
        "\n",
        "model_5.fit_generator(\n",
        "    train_iterator(BATCH_SIZE, IMG_SIZE), \n",
        "    steps_per_epoch=STEPS_PER_EPOCH,\n",
        "    epochs=EPOCHS,\n",
        "    callbacks=[ModelSaveCallback(MODEL_NAME)],\n",
        "    verbose=1,\n",
        "    initial_epoch=last_finished_epoch\n",
        ")"
      ],
      "execution_count": 0,
      "outputs": [
        {
          "output_type": "stream",
          "text": [
            "Epoch 1/5\n",
            "2000/2000 [==============================] - 1467s 734ms/step - loss: 1.9662 - categorical_accuracy: 0.5361 - top_3_accuracy: 0.7290\n",
            "Uploaded to Drive\n",
            "Model saved in model_5_1\n",
            "Epoch 2/5\n",
            "2000/2000 [==============================] - 1461s 730ms/step - loss: 1.3272 - categorical_accuracy: 0.6678 - top_3_accuracy: 0.8444\n",
            "Uploaded to Drive\n",
            "Model saved in model_5_2\n",
            "Epoch 3/5\n",
            "2000/2000 [==============================] - 1459s 730ms/step - loss: 1.2062 - categorical_accuracy: 0.6951 - top_3_accuracy: 0.8635\n",
            "Uploaded to Drive\n",
            "Model saved in model_5_3\n",
            "Epoch 4/5\n",
            "2000/2000 [==============================] - 1459s 729ms/step - loss: 1.1460 - categorical_accuracy: 0.7099 - top_3_accuracy: 0.8731\n",
            "Uploaded to Drive\n",
            "Model saved in model_5_4\n",
            "Epoch 5/5\n",
            "2000/2000 [==============================] - 1457s 728ms/step - loss: 1.0982 - categorical_accuracy: 0.7209 - top_3_accuracy: 0.8797\n",
            "Uploaded to Drive\n",
            "Model saved in model_5_5\n",
            "CPU times: user 1h 22min 7s, sys: 6min 51s, total: 1h 28min 58s\n",
            "Wall time: 2h 1min 55s\n"
          ],
          "name": "stdout"
        }
      ]
    },
    {
      "metadata": {
        "id": "l5m13Oj1pcT5",
        "colab_type": "text"
      },
      "cell_type": "markdown",
      "source": [
        "2 hours, PL=0.833"
      ]
    },
    {
      "metadata": {
        "id": "hvKs9m46lwkR",
        "colab_type": "text"
      },
      "cell_type": "markdown",
      "source": [
        "The model generalizes much better after we train it on batches that contain 1 sample per class"
      ]
    },
    {
      "metadata": {
        "id": "oGY17_VFNge8",
        "colab_type": "text"
      },
      "cell_type": "markdown",
      "source": [
        "## MobileNet"
      ]
    },
    {
      "metadata": {
        "id": "1zdE2ehEmOiq",
        "colab_type": "text"
      },
      "cell_type": "markdown",
      "source": [
        "Let's take a ready model from Keras without weight. MobileNet uses skip-connections what solves the vanishing gradient problem. It also uses convolution layers with stride 2 instead of max-pooling."
      ]
    },
    {
      "metadata": {
        "id": "vVKF2uG6m_AM",
        "colab_type": "text"
      },
      "cell_type": "markdown",
      "source": [
        "10 hours, PL=0.895 \\\n",
        "updated generator \\\n",
        "10 hours, PL=0.908 \\\n",
        "10 hours, PL=0.914 \\\n",
        "10 hours, PL=0.917 \\\n",
        "decreased lr by 2 \\\n",
        "10 hours PL=0.920 \\\n",
        "10 hours PL=0.922"
      ]
    },
    {
      "metadata": {
        "id": "ftHadi2dNf-i",
        "colab_type": "code",
        "colab": {}
      },
      "cell_type": "code",
      "source": [
        "reset_tf_session()\n",
        "model_mn = MobileNet(input_shape=(128, 128, 1), alpha=1., weights=None, classes=NUM_CLASSES)\n",
        "model_mn.compile(\n",
        "    loss='categorical_crossentropy',\n",
        "    optimizer=keras.optimizers.adam(lr=0.001, clipnorm=5.),\n",
        "    metrics=[categorical_accuracy, top_3_accuracy]\n",
        ")"
      ],
      "execution_count": 0,
      "outputs": []
    },
    {
      "metadata": {
        "id": "pfGv3Rr0tlK0",
        "colab_type": "code",
        "colab": {}
      },
      "cell_type": "code",
      "source": [
        "# print(model_mn.summary())"
      ],
      "execution_count": 0,
      "outputs": []
    },
    {
      "metadata": {
        "id": "4wDr03Couc9L",
        "colab_type": "code",
        "colab": {}
      },
      "cell_type": "code",
      "source": [
        "def trainModel(_model, name, batch_size, steps, epochs, last_epoch):\n",
        "    global LAST_LINE\n",
        "    for e in range(epochs-last_epoch):\n",
        "        _model.fit_generator(\n",
        "            train_iterator(batch_size, 128), \n",
        "            steps_per_epoch=steps,\n",
        "            epochs=last_epoch+1+e,\n",
        "            callbacks=[ModelSaveCallback(name)],\n",
        "            verbose=1,\n",
        "            initial_epoch=last_epoch+e\n",
        "        )\n",
        "        LAST_LINE+=steps \n",
        "    print 'FINAL LAST_LINE:', LAST_LINE\n",
        "    return _model"
      ],
      "execution_count": 0,
      "outputs": []
    },
    {
      "metadata": {
        "id": "DxQRRnBQBg9S",
        "colab_type": "code",
        "colab": {}
      },
      "cell_type": "code",
      "source": [
        "MODEL_NAME = \"model_mn\"\n",
        "BATCH_SIZE = 340\n",
        "STEPS_PER_EPOCH = 10000\n",
        "last_finished_epoch = 32\n",
        "EPOCHS=last_finished_epoch+3\n",
        "\n",
        "if last_finished_epoch > 0:\n",
        "    s = reset_tf_session()\n",
        "    model_filename = MODEL_NAME+\"_\"+str(last_finished_epoch)\n",
        "    model_mn = load_model(model_filename, custom_objects={\"top_3_accuracy\": top_3_accuracy})"
      ],
      "execution_count": 0,
      "outputs": []
    },
    {
      "metadata": {
        "id": "idhbsouwiwRN",
        "colab_type": "code",
        "outputId": "07a584b0-411e-4221-dca4-70c0a109520e",
        "colab": {
          "base_uri": "https://localhost:8080/",
          "height": 343
        }
      },
      "cell_type": "code",
      "source": [
        "%%time\n",
        "LAST_LINE = 50000\n",
        "model_mn = trainModel(model_mn, MODEL_NAME, BATCH_SIZE, STEPS_PER_EPOCH, EPOCHS, last_finished_epoch)"
      ],
      "execution_count": 0,
      "outputs": [
        {
          "output_type": "stream",
          "text": [
            "Epoch 33/33\n",
            "LAST_LINE: 50000\n",
            "10000/10000 [==============================] - 9909s 991ms/step - loss: 0.6455 - categorical_accuracy: 0.8315 - top_3_accuracy: 0.9390\n",
            "Uploaded to Drive: 1Da6PitEbHWHKWPoNdURSNpSNyFowMNFt\n",
            "Model saved as: model_mn_33\n",
            "Epoch 34/34\n",
            "LAST_LINE: 60000\n",
            "10000/10000 [==============================] - 9985s 998ms/step - loss: 0.6432 - categorical_accuracy: 0.8321 - top_3_accuracy: 0.9394\n",
            "Uploaded to Drive: 1a5RckRBKtMn5A6D20ZtR6dYXc2VdD_oT\n",
            "Model saved as: model_mn_34\n",
            "Epoch 35/35\n",
            "LAST_LINE: 70000\n",
            "10000/10000 [==============================] - 9992s 999ms/step - loss: 0.6430 - categorical_accuracy: 0.8323 - top_3_accuracy: 0.9392\n",
            "Uploaded to Drive: 1cxu_fN8QDX8qSGm44EZXSq6__pzxDmrN\n",
            "Model saved as: model_mn_35\n",
            "FINAL LAST_LINE: 80000\n",
            "CPU times: user 5h 48min 54s, sys: 23min 7s, total: 6h 12min 2s\n",
            "Wall time: 8h 18min 25s\n"
          ],
          "name": "stdout"
        }
      ]
    },
    {
      "metadata": {
        "id": "Tg4HQR5_sy4g",
        "colab_type": "text"
      },
      "cell_type": "markdown",
      "source": [
        "(example of one training iteration)"
      ]
    },
    {
      "metadata": {
        "colab_type": "code",
        "outputId": "fca2848c-6e36-46bc-8459-a2277d5156ff",
        "id": "pwQ26S-AoNK-",
        "colab": {
          "base_uri": "https://localhost:8080/",
          "height": 411
        }
      },
      "cell_type": "code",
      "source": [
        "%%time\n",
        "LAST_LINE = 51000    \n",
        "model_mn = trainModel(model_mn, MODEL_NAME, BATCH_SIZE, STEPS_PER_EPOCH, EPOCHS, last_finished_epoch)"
      ],
      "execution_count": 0,
      "outputs": [
        {
          "output_type": "stream",
          "text": [
            "Epoch 12/12\n",
            "LAST_LINE: 51000\n",
            "10000/10000 [==============================] - 9301s 930ms/step - loss: 0.7406 - categorical_accuracy: 0.8067 - top_3_accuracy: 0.9285\n",
            "Uploaded to Drive: 1BtSX2xG-lFHqDV6XbYVmyMHMW-PLyBgx\n",
            "Model saved as: model_mn_12\n",
            "Epoch 13/13\n",
            "LAST_LINE: 61000\n",
            "10000/10000 [==============================] - 9349s 935ms/step - loss: 0.7329 - categorical_accuracy: 0.8086 - top_3_accuracy: 0.9297\n",
            "Uploaded to Drive: 1TYTdRtWrxbmwkxCtrJ1C1EIvTuT2BLv2\n",
            "Model saved as: model_mn_13\n",
            "Epoch 14/14\n",
            "LAST_LINE: 71000\n",
            "10000/10000 [==============================] - 9368s 937ms/step - loss: 0.7263 - categorical_accuracy: 0.8102 - top_3_accuracy: 0.9302\n",
            "Uploaded to Drive: 1X6NuyzrAR6XAdmxSfOeiMd9csXm9fqCz\n",
            "Model saved as: model_mn_14\n",
            "Epoch 15/15\n",
            "LAST_LINE: 81000\n",
            "10000/10000 [==============================] - 9392s 939ms/step - loss: 0.7199 - categorical_accuracy: 0.8118 - top_3_accuracy: 0.9311\n",
            "Uploaded to Drive: 17a6Hg7PTtYPy8UxytU-nfrVMSw8SFFQR\n",
            "Model saved as: model_mn_15\n",
            "CPU times: user 7h 30min 23s, sys: 28min 24s, total: 7h 58min 48s\n",
            "Wall time: 10h 23min 51s\n"
          ],
          "name": "stdout"
        }
      ]
    },
    {
      "metadata": {
        "colab_type": "text",
        "id": "aHmMLzOcF4kK"
      },
      "cell_type": "markdown",
      "source": [
        "## ResNet50"
      ]
    },
    {
      "metadata": {
        "colab_type": "code",
        "outputId": "bfeee691-80c7-4392-8f6b-ae2d07a394e8",
        "id": "NocCO-OsF4kN",
        "colab": {
          "base_uri": "https://localhost:8080/",
          "height": 6463
        }
      },
      "cell_type": "code",
      "source": [
        "reset_tf_session()\n",
        "model_rn = ResNet50(input_shape=(128, 128, 1), weights=None, classes=NUM_CLASSES)\n",
        "model_rn.compile(\n",
        "    loss='categorical_crossentropy',\n",
        "    optimizer=keras.optimizers.adam(lr=0.002, clipnorm=5.),\n",
        "    metrics=[categorical_accuracy, top_3_accuracy]\n",
        ")\n",
        "print(model_rn.summary())"
      ],
      "execution_count": 0,
      "outputs": [
        {
          "output_type": "stream",
          "text": [
            "__________________________________________________________________________________________________\n",
            "Layer (type)                    Output Shape         Param #     Connected to                     \n",
            "==================================================================================================\n",
            "input_1 (InputLayer)            (None, 128, 128, 1)  0                                            \n",
            "__________________________________________________________________________________________________\n",
            "conv1_pad (ZeroPadding2D)       (None, 134, 134, 1)  0           input_1[0][0]                    \n",
            "__________________________________________________________________________________________________\n",
            "conv1 (Conv2D)                  (None, 64, 64, 64)   3200        conv1_pad[0][0]                  \n",
            "__________________________________________________________________________________________________\n",
            "bn_conv1 (BatchNormalization)   (None, 64, 64, 64)   256         conv1[0][0]                      \n",
            "__________________________________________________________________________________________________\n",
            "activation_1 (Activation)       (None, 64, 64, 64)   0           bn_conv1[0][0]                   \n",
            "__________________________________________________________________________________________________\n",
            "pool1_pad (ZeroPadding2D)       (None, 66, 66, 64)   0           activation_1[0][0]               \n",
            "__________________________________________________________________________________________________\n",
            "max_pooling2d_1 (MaxPooling2D)  (None, 32, 32, 64)   0           pool1_pad[0][0]                  \n",
            "__________________________________________________________________________________________________\n",
            "res2a_branch2a (Conv2D)         (None, 32, 32, 64)   4160        max_pooling2d_1[0][0]            \n",
            "__________________________________________________________________________________________________\n",
            "bn2a_branch2a (BatchNormalizati (None, 32, 32, 64)   256         res2a_branch2a[0][0]             \n",
            "__________________________________________________________________________________________________\n",
            "activation_2 (Activation)       (None, 32, 32, 64)   0           bn2a_branch2a[0][0]              \n",
            "__________________________________________________________________________________________________\n",
            "res2a_branch2b (Conv2D)         (None, 32, 32, 64)   36928       activation_2[0][0]               \n",
            "__________________________________________________________________________________________________\n",
            "bn2a_branch2b (BatchNormalizati (None, 32, 32, 64)   256         res2a_branch2b[0][0]             \n",
            "__________________________________________________________________________________________________\n",
            "activation_3 (Activation)       (None, 32, 32, 64)   0           bn2a_branch2b[0][0]              \n",
            "__________________________________________________________________________________________________\n",
            "res2a_branch2c (Conv2D)         (None, 32, 32, 256)  16640       activation_3[0][0]               \n",
            "__________________________________________________________________________________________________\n",
            "res2a_branch1 (Conv2D)          (None, 32, 32, 256)  16640       max_pooling2d_1[0][0]            \n",
            "__________________________________________________________________________________________________\n",
            "bn2a_branch2c (BatchNormalizati (None, 32, 32, 256)  1024        res2a_branch2c[0][0]             \n",
            "__________________________________________________________________________________________________\n",
            "bn2a_branch1 (BatchNormalizatio (None, 32, 32, 256)  1024        res2a_branch1[0][0]              \n",
            "__________________________________________________________________________________________________\n",
            "add_1 (Add)                     (None, 32, 32, 256)  0           bn2a_branch2c[0][0]              \n",
            "                                                                 bn2a_branch1[0][0]               \n",
            "__________________________________________________________________________________________________\n",
            "activation_4 (Activation)       (None, 32, 32, 256)  0           add_1[0][0]                      \n",
            "__________________________________________________________________________________________________\n",
            "res2b_branch2a (Conv2D)         (None, 32, 32, 64)   16448       activation_4[0][0]               \n",
            "__________________________________________________________________________________________________\n",
            "bn2b_branch2a (BatchNormalizati (None, 32, 32, 64)   256         res2b_branch2a[0][0]             \n",
            "__________________________________________________________________________________________________\n",
            "activation_5 (Activation)       (None, 32, 32, 64)   0           bn2b_branch2a[0][0]              \n",
            "__________________________________________________________________________________________________\n",
            "res2b_branch2b (Conv2D)         (None, 32, 32, 64)   36928       activation_5[0][0]               \n",
            "__________________________________________________________________________________________________\n",
            "bn2b_branch2b (BatchNormalizati (None, 32, 32, 64)   256         res2b_branch2b[0][0]             \n",
            "__________________________________________________________________________________________________\n",
            "activation_6 (Activation)       (None, 32, 32, 64)   0           bn2b_branch2b[0][0]              \n",
            "__________________________________________________________________________________________________\n",
            "res2b_branch2c (Conv2D)         (None, 32, 32, 256)  16640       activation_6[0][0]               \n",
            "__________________________________________________________________________________________________\n",
            "bn2b_branch2c (BatchNormalizati (None, 32, 32, 256)  1024        res2b_branch2c[0][0]             \n",
            "__________________________________________________________________________________________________\n",
            "add_2 (Add)                     (None, 32, 32, 256)  0           bn2b_branch2c[0][0]              \n",
            "                                                                 activation_4[0][0]               \n",
            "__________________________________________________________________________________________________\n",
            "activation_7 (Activation)       (None, 32, 32, 256)  0           add_2[0][0]                      \n",
            "__________________________________________________________________________________________________\n",
            "res2c_branch2a (Conv2D)         (None, 32, 32, 64)   16448       activation_7[0][0]               \n",
            "__________________________________________________________________________________________________\n",
            "bn2c_branch2a (BatchNormalizati (None, 32, 32, 64)   256         res2c_branch2a[0][0]             \n",
            "__________________________________________________________________________________________________\n",
            "activation_8 (Activation)       (None, 32, 32, 64)   0           bn2c_branch2a[0][0]              \n",
            "__________________________________________________________________________________________________\n",
            "res2c_branch2b (Conv2D)         (None, 32, 32, 64)   36928       activation_8[0][0]               \n",
            "__________________________________________________________________________________________________\n",
            "bn2c_branch2b (BatchNormalizati (None, 32, 32, 64)   256         res2c_branch2b[0][0]             \n",
            "__________________________________________________________________________________________________\n",
            "activation_9 (Activation)       (None, 32, 32, 64)   0           bn2c_branch2b[0][0]              \n",
            "__________________________________________________________________________________________________\n",
            "res2c_branch2c (Conv2D)         (None, 32, 32, 256)  16640       activation_9[0][0]               \n",
            "__________________________________________________________________________________________________\n",
            "bn2c_branch2c (BatchNormalizati (None, 32, 32, 256)  1024        res2c_branch2c[0][0]             \n",
            "__________________________________________________________________________________________________\n",
            "add_3 (Add)                     (None, 32, 32, 256)  0           bn2c_branch2c[0][0]              \n",
            "                                                                 activation_7[0][0]               \n",
            "__________________________________________________________________________________________________\n",
            "activation_10 (Activation)      (None, 32, 32, 256)  0           add_3[0][0]                      \n",
            "__________________________________________________________________________________________________\n",
            "res3a_branch2a (Conv2D)         (None, 16, 16, 128)  32896       activation_10[0][0]              \n",
            "__________________________________________________________________________________________________\n",
            "bn3a_branch2a (BatchNormalizati (None, 16, 16, 128)  512         res3a_branch2a[0][0]             \n",
            "__________________________________________________________________________________________________\n",
            "activation_11 (Activation)      (None, 16, 16, 128)  0           bn3a_branch2a[0][0]              \n",
            "__________________________________________________________________________________________________\n",
            "res3a_branch2b (Conv2D)         (None, 16, 16, 128)  147584      activation_11[0][0]              \n",
            "__________________________________________________________________________________________________\n",
            "bn3a_branch2b (BatchNormalizati (None, 16, 16, 128)  512         res3a_branch2b[0][0]             \n",
            "__________________________________________________________________________________________________\n",
            "activation_12 (Activation)      (None, 16, 16, 128)  0           bn3a_branch2b[0][0]              \n",
            "__________________________________________________________________________________________________\n",
            "res3a_branch2c (Conv2D)         (None, 16, 16, 512)  66048       activation_12[0][0]              \n",
            "__________________________________________________________________________________________________\n",
            "res3a_branch1 (Conv2D)          (None, 16, 16, 512)  131584      activation_10[0][0]              \n",
            "__________________________________________________________________________________________________\n",
            "bn3a_branch2c (BatchNormalizati (None, 16, 16, 512)  2048        res3a_branch2c[0][0]             \n",
            "__________________________________________________________________________________________________\n",
            "bn3a_branch1 (BatchNormalizatio (None, 16, 16, 512)  2048        res3a_branch1[0][0]              \n",
            "__________________________________________________________________________________________________\n",
            "add_4 (Add)                     (None, 16, 16, 512)  0           bn3a_branch2c[0][0]              \n",
            "                                                                 bn3a_branch1[0][0]               \n",
            "__________________________________________________________________________________________________\n",
            "activation_13 (Activation)      (None, 16, 16, 512)  0           add_4[0][0]                      \n",
            "__________________________________________________________________________________________________\n",
            "res3b_branch2a (Conv2D)         (None, 16, 16, 128)  65664       activation_13[0][0]              \n",
            "__________________________________________________________________________________________________\n",
            "bn3b_branch2a (BatchNormalizati (None, 16, 16, 128)  512         res3b_branch2a[0][0]             \n",
            "__________________________________________________________________________________________________\n",
            "activation_14 (Activation)      (None, 16, 16, 128)  0           bn3b_branch2a[0][0]              \n",
            "__________________________________________________________________________________________________\n",
            "res3b_branch2b (Conv2D)         (None, 16, 16, 128)  147584      activation_14[0][0]              \n",
            "__________________________________________________________________________________________________\n",
            "bn3b_branch2b (BatchNormalizati (None, 16, 16, 128)  512         res3b_branch2b[0][0]             \n",
            "__________________________________________________________________________________________________\n",
            "activation_15 (Activation)      (None, 16, 16, 128)  0           bn3b_branch2b[0][0]              \n",
            "__________________________________________________________________________________________________\n",
            "res3b_branch2c (Conv2D)         (None, 16, 16, 512)  66048       activation_15[0][0]              \n",
            "__________________________________________________________________________________________________\n",
            "bn3b_branch2c (BatchNormalizati (None, 16, 16, 512)  2048        res3b_branch2c[0][0]             \n",
            "__________________________________________________________________________________________________\n",
            "add_5 (Add)                     (None, 16, 16, 512)  0           bn3b_branch2c[0][0]              \n",
            "                                                                 activation_13[0][0]              \n",
            "__________________________________________________________________________________________________\n",
            "activation_16 (Activation)      (None, 16, 16, 512)  0           add_5[0][0]                      \n",
            "__________________________________________________________________________________________________\n",
            "res3c_branch2a (Conv2D)         (None, 16, 16, 128)  65664       activation_16[0][0]              \n",
            "__________________________________________________________________________________________________\n",
            "bn3c_branch2a (BatchNormalizati (None, 16, 16, 128)  512         res3c_branch2a[0][0]             \n",
            "__________________________________________________________________________________________________\n",
            "activation_17 (Activation)      (None, 16, 16, 128)  0           bn3c_branch2a[0][0]              \n",
            "__________________________________________________________________________________________________\n",
            "res3c_branch2b (Conv2D)         (None, 16, 16, 128)  147584      activation_17[0][0]              \n",
            "__________________________________________________________________________________________________\n",
            "bn3c_branch2b (BatchNormalizati (None, 16, 16, 128)  512         res3c_branch2b[0][0]             \n",
            "__________________________________________________________________________________________________\n",
            "activation_18 (Activation)      (None, 16, 16, 128)  0           bn3c_branch2b[0][0]              \n",
            "__________________________________________________________________________________________________\n",
            "res3c_branch2c (Conv2D)         (None, 16, 16, 512)  66048       activation_18[0][0]              \n",
            "__________________________________________________________________________________________________\n",
            "bn3c_branch2c (BatchNormalizati (None, 16, 16, 512)  2048        res3c_branch2c[0][0]             \n",
            "__________________________________________________________________________________________________\n",
            "add_6 (Add)                     (None, 16, 16, 512)  0           bn3c_branch2c[0][0]              \n",
            "                                                                 activation_16[0][0]              \n",
            "__________________________________________________________________________________________________\n",
            "activation_19 (Activation)      (None, 16, 16, 512)  0           add_6[0][0]                      \n",
            "__________________________________________________________________________________________________\n",
            "res3d_branch2a (Conv2D)         (None, 16, 16, 128)  65664       activation_19[0][0]              \n",
            "__________________________________________________________________________________________________\n",
            "bn3d_branch2a (BatchNormalizati (None, 16, 16, 128)  512         res3d_branch2a[0][0]             \n",
            "__________________________________________________________________________________________________\n",
            "activation_20 (Activation)      (None, 16, 16, 128)  0           bn3d_branch2a[0][0]              \n",
            "__________________________________________________________________________________________________\n",
            "res3d_branch2b (Conv2D)         (None, 16, 16, 128)  147584      activation_20[0][0]              \n",
            "__________________________________________________________________________________________________\n",
            "bn3d_branch2b (BatchNormalizati (None, 16, 16, 128)  512         res3d_branch2b[0][0]             \n",
            "__________________________________________________________________________________________________\n",
            "activation_21 (Activation)      (None, 16, 16, 128)  0           bn3d_branch2b[0][0]              \n",
            "__________________________________________________________________________________________________\n",
            "res3d_branch2c (Conv2D)         (None, 16, 16, 512)  66048       activation_21[0][0]              \n",
            "__________________________________________________________________________________________________\n",
            "bn3d_branch2c (BatchNormalizati (None, 16, 16, 512)  2048        res3d_branch2c[0][0]             \n",
            "__________________________________________________________________________________________________\n",
            "add_7 (Add)                     (None, 16, 16, 512)  0           bn3d_branch2c[0][0]              \n",
            "                                                                 activation_19[0][0]              \n",
            "__________________________________________________________________________________________________\n",
            "activation_22 (Activation)      (None, 16, 16, 512)  0           add_7[0][0]                      \n",
            "__________________________________________________________________________________________________\n",
            "res4a_branch2a (Conv2D)         (None, 8, 8, 256)    131328      activation_22[0][0]              \n",
            "__________________________________________________________________________________________________\n",
            "bn4a_branch2a (BatchNormalizati (None, 8, 8, 256)    1024        res4a_branch2a[0][0]             \n",
            "__________________________________________________________________________________________________\n",
            "activation_23 (Activation)      (None, 8, 8, 256)    0           bn4a_branch2a[0][0]              \n",
            "__________________________________________________________________________________________________\n",
            "res4a_branch2b (Conv2D)         (None, 8, 8, 256)    590080      activation_23[0][0]              \n",
            "__________________________________________________________________________________________________\n",
            "bn4a_branch2b (BatchNormalizati (None, 8, 8, 256)    1024        res4a_branch2b[0][0]             \n",
            "__________________________________________________________________________________________________\n",
            "activation_24 (Activation)      (None, 8, 8, 256)    0           bn4a_branch2b[0][0]              \n",
            "__________________________________________________________________________________________________\n",
            "res4a_branch2c (Conv2D)         (None, 8, 8, 1024)   263168      activation_24[0][0]              \n",
            "__________________________________________________________________________________________________\n",
            "res4a_branch1 (Conv2D)          (None, 8, 8, 1024)   525312      activation_22[0][0]              \n",
            "__________________________________________________________________________________________________\n",
            "bn4a_branch2c (BatchNormalizati (None, 8, 8, 1024)   4096        res4a_branch2c[0][0]             \n",
            "__________________________________________________________________________________________________\n",
            "bn4a_branch1 (BatchNormalizatio (None, 8, 8, 1024)   4096        res4a_branch1[0][0]              \n",
            "__________________________________________________________________________________________________\n",
            "add_8 (Add)                     (None, 8, 8, 1024)   0           bn4a_branch2c[0][0]              \n",
            "                                                                 bn4a_branch1[0][0]               \n",
            "__________________________________________________________________________________________________\n",
            "activation_25 (Activation)      (None, 8, 8, 1024)   0           add_8[0][0]                      \n",
            "__________________________________________________________________________________________________\n",
            "res4b_branch2a (Conv2D)         (None, 8, 8, 256)    262400      activation_25[0][0]              \n",
            "__________________________________________________________________________________________________\n",
            "bn4b_branch2a (BatchNormalizati (None, 8, 8, 256)    1024        res4b_branch2a[0][0]             \n",
            "__________________________________________________________________________________________________\n",
            "activation_26 (Activation)      (None, 8, 8, 256)    0           bn4b_branch2a[0][0]              \n",
            "__________________________________________________________________________________________________\n",
            "res4b_branch2b (Conv2D)         (None, 8, 8, 256)    590080      activation_26[0][0]              \n",
            "__________________________________________________________________________________________________\n",
            "bn4b_branch2b (BatchNormalizati (None, 8, 8, 256)    1024        res4b_branch2b[0][0]             \n",
            "__________________________________________________________________________________________________\n",
            "activation_27 (Activation)      (None, 8, 8, 256)    0           bn4b_branch2b[0][0]              \n",
            "__________________________________________________________________________________________________\n",
            "res4b_branch2c (Conv2D)         (None, 8, 8, 1024)   263168      activation_27[0][0]              \n",
            "__________________________________________________________________________________________________\n",
            "bn4b_branch2c (BatchNormalizati (None, 8, 8, 1024)   4096        res4b_branch2c[0][0]             \n",
            "__________________________________________________________________________________________________\n",
            "add_9 (Add)                     (None, 8, 8, 1024)   0           bn4b_branch2c[0][0]              \n",
            "                                                                 activation_25[0][0]              \n",
            "__________________________________________________________________________________________________\n",
            "activation_28 (Activation)      (None, 8, 8, 1024)   0           add_9[0][0]                      \n",
            "__________________________________________________________________________________________________\n",
            "res4c_branch2a (Conv2D)         (None, 8, 8, 256)    262400      activation_28[0][0]              \n",
            "__________________________________________________________________________________________________\n",
            "bn4c_branch2a (BatchNormalizati (None, 8, 8, 256)    1024        res4c_branch2a[0][0]             \n",
            "__________________________________________________________________________________________________\n",
            "activation_29 (Activation)      (None, 8, 8, 256)    0           bn4c_branch2a[0][0]              \n",
            "__________________________________________________________________________________________________\n",
            "res4c_branch2b (Conv2D)         (None, 8, 8, 256)    590080      activation_29[0][0]              \n",
            "__________________________________________________________________________________________________\n",
            "bn4c_branch2b (BatchNormalizati (None, 8, 8, 256)    1024        res4c_branch2b[0][0]             \n",
            "__________________________________________________________________________________________________\n",
            "activation_30 (Activation)      (None, 8, 8, 256)    0           bn4c_branch2b[0][0]              \n",
            "__________________________________________________________________________________________________\n",
            "res4c_branch2c (Conv2D)         (None, 8, 8, 1024)   263168      activation_30[0][0]              \n",
            "__________________________________________________________________________________________________\n",
            "bn4c_branch2c (BatchNormalizati (None, 8, 8, 1024)   4096        res4c_branch2c[0][0]             \n",
            "__________________________________________________________________________________________________\n",
            "add_10 (Add)                    (None, 8, 8, 1024)   0           bn4c_branch2c[0][0]              \n",
            "                                                                 activation_28[0][0]              \n",
            "__________________________________________________________________________________________________\n",
            "activation_31 (Activation)      (None, 8, 8, 1024)   0           add_10[0][0]                     \n",
            "__________________________________________________________________________________________________\n",
            "res4d_branch2a (Conv2D)         (None, 8, 8, 256)    262400      activation_31[0][0]              \n",
            "__________________________________________________________________________________________________\n",
            "bn4d_branch2a (BatchNormalizati (None, 8, 8, 256)    1024        res4d_branch2a[0][0]             \n",
            "__________________________________________________________________________________________________\n",
            "activation_32 (Activation)      (None, 8, 8, 256)    0           bn4d_branch2a[0][0]              \n",
            "__________________________________________________________________________________________________\n",
            "res4d_branch2b (Conv2D)         (None, 8, 8, 256)    590080      activation_32[0][0]              \n",
            "__________________________________________________________________________________________________\n",
            "bn4d_branch2b (BatchNormalizati (None, 8, 8, 256)    1024        res4d_branch2b[0][0]             \n",
            "__________________________________________________________________________________________________\n",
            "activation_33 (Activation)      (None, 8, 8, 256)    0           bn4d_branch2b[0][0]              \n",
            "__________________________________________________________________________________________________\n",
            "res4d_branch2c (Conv2D)         (None, 8, 8, 1024)   263168      activation_33[0][0]              \n",
            "__________________________________________________________________________________________________\n",
            "bn4d_branch2c (BatchNormalizati (None, 8, 8, 1024)   4096        res4d_branch2c[0][0]             \n",
            "__________________________________________________________________________________________________\n",
            "add_11 (Add)                    (None, 8, 8, 1024)   0           bn4d_branch2c[0][0]              \n",
            "                                                                 activation_31[0][0]              \n",
            "__________________________________________________________________________________________________\n",
            "activation_34 (Activation)      (None, 8, 8, 1024)   0           add_11[0][0]                     \n",
            "__________________________________________________________________________________________________\n",
            "res4e_branch2a (Conv2D)         (None, 8, 8, 256)    262400      activation_34[0][0]              \n",
            "__________________________________________________________________________________________________\n",
            "bn4e_branch2a (BatchNormalizati (None, 8, 8, 256)    1024        res4e_branch2a[0][0]             \n",
            "__________________________________________________________________________________________________\n",
            "activation_35 (Activation)      (None, 8, 8, 256)    0           bn4e_branch2a[0][0]              \n",
            "__________________________________________________________________________________________________\n",
            "res4e_branch2b (Conv2D)         (None, 8, 8, 256)    590080      activation_35[0][0]              \n",
            "__________________________________________________________________________________________________\n",
            "bn4e_branch2b (BatchNormalizati (None, 8, 8, 256)    1024        res4e_branch2b[0][0]             \n",
            "__________________________________________________________________________________________________\n",
            "activation_36 (Activation)      (None, 8, 8, 256)    0           bn4e_branch2b[0][0]              \n",
            "__________________________________________________________________________________________________\n",
            "res4e_branch2c (Conv2D)         (None, 8, 8, 1024)   263168      activation_36[0][0]              \n",
            "__________________________________________________________________________________________________\n",
            "bn4e_branch2c (BatchNormalizati (None, 8, 8, 1024)   4096        res4e_branch2c[0][0]             \n",
            "__________________________________________________________________________________________________\n",
            "add_12 (Add)                    (None, 8, 8, 1024)   0           bn4e_branch2c[0][0]              \n",
            "                                                                 activation_34[0][0]              \n",
            "__________________________________________________________________________________________________\n",
            "activation_37 (Activation)      (None, 8, 8, 1024)   0           add_12[0][0]                     \n",
            "__________________________________________________________________________________________________\n",
            "res4f_branch2a (Conv2D)         (None, 8, 8, 256)    262400      activation_37[0][0]              \n",
            "__________________________________________________________________________________________________\n",
            "bn4f_branch2a (BatchNormalizati (None, 8, 8, 256)    1024        res4f_branch2a[0][0]             \n",
            "__________________________________________________________________________________________________\n",
            "activation_38 (Activation)      (None, 8, 8, 256)    0           bn4f_branch2a[0][0]              \n",
            "__________________________________________________________________________________________________\n",
            "res4f_branch2b (Conv2D)         (None, 8, 8, 256)    590080      activation_38[0][0]              \n",
            "__________________________________________________________________________________________________\n",
            "bn4f_branch2b (BatchNormalizati (None, 8, 8, 256)    1024        res4f_branch2b[0][0]             \n",
            "__________________________________________________________________________________________________\n",
            "activation_39 (Activation)      (None, 8, 8, 256)    0           bn4f_branch2b[0][0]              \n",
            "__________________________________________________________________________________________________\n",
            "res4f_branch2c (Conv2D)         (None, 8, 8, 1024)   263168      activation_39[0][0]              \n",
            "__________________________________________________________________________________________________\n",
            "bn4f_branch2c (BatchNormalizati (None, 8, 8, 1024)   4096        res4f_branch2c[0][0]             \n",
            "__________________________________________________________________________________________________\n",
            "add_13 (Add)                    (None, 8, 8, 1024)   0           bn4f_branch2c[0][0]              \n",
            "                                                                 activation_37[0][0]              \n",
            "__________________________________________________________________________________________________\n",
            "activation_40 (Activation)      (None, 8, 8, 1024)   0           add_13[0][0]                     \n",
            "__________________________________________________________________________________________________\n",
            "res5a_branch2a (Conv2D)         (None, 4, 4, 512)    524800      activation_40[0][0]              \n",
            "__________________________________________________________________________________________________\n",
            "bn5a_branch2a (BatchNormalizati (None, 4, 4, 512)    2048        res5a_branch2a[0][0]             \n",
            "__________________________________________________________________________________________________\n",
            "activation_41 (Activation)      (None, 4, 4, 512)    0           bn5a_branch2a[0][0]              \n",
            "__________________________________________________________________________________________________\n",
            "res5a_branch2b (Conv2D)         (None, 4, 4, 512)    2359808     activation_41[0][0]              \n",
            "__________________________________________________________________________________________________\n",
            "bn5a_branch2b (BatchNormalizati (None, 4, 4, 512)    2048        res5a_branch2b[0][0]             \n",
            "__________________________________________________________________________________________________\n",
            "activation_42 (Activation)      (None, 4, 4, 512)    0           bn5a_branch2b[0][0]              \n",
            "__________________________________________________________________________________________________\n",
            "res5a_branch2c (Conv2D)         (None, 4, 4, 2048)   1050624     activation_42[0][0]              \n",
            "__________________________________________________________________________________________________\n",
            "res5a_branch1 (Conv2D)          (None, 4, 4, 2048)   2099200     activation_40[0][0]              \n",
            "__________________________________________________________________________________________________\n",
            "bn5a_branch2c (BatchNormalizati (None, 4, 4, 2048)   8192        res5a_branch2c[0][0]             \n",
            "__________________________________________________________________________________________________\n",
            "bn5a_branch1 (BatchNormalizatio (None, 4, 4, 2048)   8192        res5a_branch1[0][0]              \n",
            "__________________________________________________________________________________________________\n",
            "add_14 (Add)                    (None, 4, 4, 2048)   0           bn5a_branch2c[0][0]              \n",
            "                                                                 bn5a_branch1[0][0]               \n",
            "__________________________________________________________________________________________________\n",
            "activation_43 (Activation)      (None, 4, 4, 2048)   0           add_14[0][0]                     \n",
            "__________________________________________________________________________________________________\n",
            "res5b_branch2a (Conv2D)         (None, 4, 4, 512)    1049088     activation_43[0][0]              \n",
            "__________________________________________________________________________________________________\n",
            "bn5b_branch2a (BatchNormalizati (None, 4, 4, 512)    2048        res5b_branch2a[0][0]             \n",
            "__________________________________________________________________________________________________\n",
            "activation_44 (Activation)      (None, 4, 4, 512)    0           bn5b_branch2a[0][0]              \n",
            "__________________________________________________________________________________________________\n",
            "res5b_branch2b (Conv2D)         (None, 4, 4, 512)    2359808     activation_44[0][0]              \n",
            "__________________________________________________________________________________________________\n",
            "bn5b_branch2b (BatchNormalizati (None, 4, 4, 512)    2048        res5b_branch2b[0][0]             \n",
            "__________________________________________________________________________________________________\n",
            "activation_45 (Activation)      (None, 4, 4, 512)    0           bn5b_branch2b[0][0]              \n",
            "__________________________________________________________________________________________________\n",
            "res5b_branch2c (Conv2D)         (None, 4, 4, 2048)   1050624     activation_45[0][0]              \n",
            "__________________________________________________________________________________________________\n",
            "bn5b_branch2c (BatchNormalizati (None, 4, 4, 2048)   8192        res5b_branch2c[0][0]             \n",
            "__________________________________________________________________________________________________\n",
            "add_15 (Add)                    (None, 4, 4, 2048)   0           bn5b_branch2c[0][0]              \n",
            "                                                                 activation_43[0][0]              \n",
            "__________________________________________________________________________________________________\n",
            "activation_46 (Activation)      (None, 4, 4, 2048)   0           add_15[0][0]                     \n",
            "__________________________________________________________________________________________________\n",
            "res5c_branch2a (Conv2D)         (None, 4, 4, 512)    1049088     activation_46[0][0]              \n",
            "__________________________________________________________________________________________________\n",
            "bn5c_branch2a (BatchNormalizati (None, 4, 4, 512)    2048        res5c_branch2a[0][0]             \n",
            "__________________________________________________________________________________________________\n",
            "activation_47 (Activation)      (None, 4, 4, 512)    0           bn5c_branch2a[0][0]              \n",
            "__________________________________________________________________________________________________\n",
            "res5c_branch2b (Conv2D)         (None, 4, 4, 512)    2359808     activation_47[0][0]              \n",
            "__________________________________________________________________________________________________\n",
            "bn5c_branch2b (BatchNormalizati (None, 4, 4, 512)    2048        res5c_branch2b[0][0]             \n",
            "__________________________________________________________________________________________________\n",
            "activation_48 (Activation)      (None, 4, 4, 512)    0           bn5c_branch2b[0][0]              \n",
            "__________________________________________________________________________________________________\n",
            "res5c_branch2c (Conv2D)         (None, 4, 4, 2048)   1050624     activation_48[0][0]              \n",
            "__________________________________________________________________________________________________\n",
            "bn5c_branch2c (BatchNormalizati (None, 4, 4, 2048)   8192        res5c_branch2c[0][0]             \n",
            "__________________________________________________________________________________________________\n",
            "add_16 (Add)                    (None, 4, 4, 2048)   0           bn5c_branch2c[0][0]              \n",
            "                                                                 activation_46[0][0]              \n",
            "__________________________________________________________________________________________________\n",
            "activation_49 (Activation)      (None, 4, 4, 2048)   0           add_16[0][0]                     \n",
            "__________________________________________________________________________________________________\n",
            "avg_pool (GlobalAveragePooling2 (None, 2048)         0           activation_49[0][0]              \n",
            "__________________________________________________________________________________________________\n",
            "fc1000 (Dense)                  (None, 340)          696660      avg_pool[0][0]                   \n",
            "==================================================================================================\n",
            "Total params: 24,278,100\n",
            "Trainable params: 24,224,980\n",
            "Non-trainable params: 53,120\n",
            "__________________________________________________________________________________________________\n",
            "None\n"
          ],
          "name": "stdout"
        }
      ]
    },
    {
      "metadata": {
        "colab_type": "code",
        "outputId": "4338ad71-c506-48a9-ee6e-59a313cea95a",
        "id": "fvEHuEWNozEa",
        "colab": {
          "base_uri": "https://localhost:8080/",
          "height": 1680
        }
      },
      "cell_type": "code",
      "source": [
        "%%time\n",
        "MODEL_NAME = \"model_rn\"\n",
        "BATCH_SIZE = 340\n",
        "STEPS_PER_EPOCH = 500\n",
        "EPOCHS=5\n",
        "last_finished_epoch = 0\n",
        "\n",
        "if last_finished_epoch > 0:\n",
        "    s = reset_tf_session()\n",
        "    model_filename = MODEL_NAME+\"_\"+str(last_finished_epoch)\n",
        "    model_rn = load_model(model_filename, custom_objects={\"top_3_accuracy\": top_3_accuracy})\n",
        "\n",
        "hist_rn = model_rn.fit_generator(\n",
        "    train_iterator(BATCH_SIZE, 128), \n",
        "    steps_per_epoch=STEPS_PER_EPOCH,\n",
        "    epochs=last_finished_epoch+5,\n",
        "    callbacks=[ModelSaveCallback(MODEL_NAME)],\n",
        "    verbose=1,\n",
        "    initial_epoch=last_finished_epoch\n",
        ")\n"
      ],
      "execution_count": 0,
      "outputs": [
        {
          "output_type": "stream",
          "text": [
            "Epoch 1/5\n",
            "LAST_LINE: 0\n"
          ],
          "name": "stdout"
        },
        {
          "output_type": "error",
          "ename": "ResourceExhaustedError",
          "evalue": "ignored",
          "traceback": [
            "\u001b[0;31m\u001b[0m",
            "\u001b[0;31mResourceExhaustedError\u001b[0mTraceback (most recent call last)",
            "\u001b[0;32m<ipython-input-82-4fd879073b4d>\u001b[0m in \u001b[0;36m<module>\u001b[0;34m()\u001b[0m\n\u001b[0;32m----> 1\u001b[0;31m \u001b[0mget_ipython\u001b[0m\u001b[0;34m(\u001b[0m\u001b[0;34m)\u001b[0m\u001b[0;34m.\u001b[0m\u001b[0mrun_cell_magic\u001b[0m\u001b[0;34m(\u001b[0m\u001b[0;34mu'time'\u001b[0m\u001b[0;34m,\u001b[0m \u001b[0;34mu''\u001b[0m\u001b[0;34m,\u001b[0m \u001b[0;34mu'MODEL_NAME = \"model_rn\"\\nBATCH_SIZE = 340\\nSTEPS_PER_EPOCH = 500\\nEPOCHS=5\\nlast_finished_epoch = 0\\n\\nif last_finished_epoch > 0:\\n    s = reset_tf_session()\\n    model_filename = MODEL_NAME+\"_\"+str(last_finished_epoch)\\n    model_rn = load_model(model_filename, custom_objects={\"top_3_accuracy\": top_3_accuracy})\\n\\nhist_rn = model_rn.fit_generator(\\n    train_iterator(BATCH_SIZE, 128), \\n    steps_per_epoch=STEPS_PER_EPOCH,\\n    epochs=last_finished_epoch+5,\\n    callbacks=[ModelSaveCallback(MODEL_NAME)],\\n    verbose=1,\\n    initial_epoch=last_finished_epoch\\n)'\u001b[0m\u001b[0;34m)\u001b[0m\u001b[0;34m\u001b[0m\u001b[0m\n\u001b[0m",
            "\u001b[0;32m/usr/local/lib/python2.7/dist-packages/IPython/core/interactiveshell.pyc\u001b[0m in \u001b[0;36mrun_cell_magic\u001b[0;34m(self, magic_name, line, cell)\u001b[0m\n\u001b[1;32m   2115\u001b[0m             \u001b[0mmagic_arg_s\u001b[0m \u001b[0;34m=\u001b[0m \u001b[0mself\u001b[0m\u001b[0;34m.\u001b[0m\u001b[0mvar_expand\u001b[0m\u001b[0;34m(\u001b[0m\u001b[0mline\u001b[0m\u001b[0;34m,\u001b[0m \u001b[0mstack_depth\u001b[0m\u001b[0;34m)\u001b[0m\u001b[0;34m\u001b[0m\u001b[0m\n\u001b[1;32m   2116\u001b[0m             \u001b[0;32mwith\u001b[0m \u001b[0mself\u001b[0m\u001b[0;34m.\u001b[0m\u001b[0mbuiltin_trap\u001b[0m\u001b[0;34m:\u001b[0m\u001b[0;34m\u001b[0m\u001b[0m\n\u001b[0;32m-> 2117\u001b[0;31m                 \u001b[0mresult\u001b[0m \u001b[0;34m=\u001b[0m \u001b[0mfn\u001b[0m\u001b[0;34m(\u001b[0m\u001b[0mmagic_arg_s\u001b[0m\u001b[0;34m,\u001b[0m \u001b[0mcell\u001b[0m\u001b[0;34m)\u001b[0m\u001b[0;34m\u001b[0m\u001b[0m\n\u001b[0m\u001b[1;32m   2118\u001b[0m             \u001b[0;32mreturn\u001b[0m \u001b[0mresult\u001b[0m\u001b[0;34m\u001b[0m\u001b[0m\n\u001b[1;32m   2119\u001b[0m \u001b[0;34m\u001b[0m\u001b[0m\n",
            "\u001b[0;32m<decorator-gen-60>\u001b[0m in \u001b[0;36mtime\u001b[0;34m(self, line, cell, local_ns)\u001b[0m\n",
            "\u001b[0;32m/usr/local/lib/python2.7/dist-packages/IPython/core/magic.pyc\u001b[0m in \u001b[0;36m<lambda>\u001b[0;34m(f, *a, **k)\u001b[0m\n\u001b[1;32m    186\u001b[0m     \u001b[0;31m# but it's overkill for just that one bit of state.\u001b[0m\u001b[0;34m\u001b[0m\u001b[0;34m\u001b[0m\u001b[0m\n\u001b[1;32m    187\u001b[0m     \u001b[0;32mdef\u001b[0m \u001b[0mmagic_deco\u001b[0m\u001b[0;34m(\u001b[0m\u001b[0marg\u001b[0m\u001b[0;34m)\u001b[0m\u001b[0;34m:\u001b[0m\u001b[0;34m\u001b[0m\u001b[0m\n\u001b[0;32m--> 188\u001b[0;31m         \u001b[0mcall\u001b[0m \u001b[0;34m=\u001b[0m \u001b[0;32mlambda\u001b[0m \u001b[0mf\u001b[0m\u001b[0;34m,\u001b[0m \u001b[0;34m*\u001b[0m\u001b[0ma\u001b[0m\u001b[0;34m,\u001b[0m \u001b[0;34m**\u001b[0m\u001b[0mk\u001b[0m\u001b[0;34m:\u001b[0m \u001b[0mf\u001b[0m\u001b[0;34m(\u001b[0m\u001b[0;34m*\u001b[0m\u001b[0ma\u001b[0m\u001b[0;34m,\u001b[0m \u001b[0;34m**\u001b[0m\u001b[0mk\u001b[0m\u001b[0;34m)\u001b[0m\u001b[0;34m\u001b[0m\u001b[0m\n\u001b[0m\u001b[1;32m    189\u001b[0m \u001b[0;34m\u001b[0m\u001b[0m\n\u001b[1;32m    190\u001b[0m         \u001b[0;32mif\u001b[0m \u001b[0mcallable\u001b[0m\u001b[0;34m(\u001b[0m\u001b[0marg\u001b[0m\u001b[0;34m)\u001b[0m\u001b[0;34m:\u001b[0m\u001b[0;34m\u001b[0m\u001b[0m\n",
            "\u001b[0;32m/usr/local/lib/python2.7/dist-packages/IPython/core/magics/execution.pyc\u001b[0m in \u001b[0;36mtime\u001b[0;34m(self, line, cell, local_ns)\u001b[0m\n\u001b[1;32m   1191\u001b[0m         \u001b[0;32melse\u001b[0m\u001b[0;34m:\u001b[0m\u001b[0;34m\u001b[0m\u001b[0m\n\u001b[1;32m   1192\u001b[0m             \u001b[0mst\u001b[0m \u001b[0;34m=\u001b[0m \u001b[0mclock2\u001b[0m\u001b[0;34m(\u001b[0m\u001b[0;34m)\u001b[0m\u001b[0;34m\u001b[0m\u001b[0m\n\u001b[0;32m-> 1193\u001b[0;31m             \u001b[0;32mexec\u001b[0m\u001b[0;34m(\u001b[0m\u001b[0mcode\u001b[0m\u001b[0;34m,\u001b[0m \u001b[0mglob\u001b[0m\u001b[0;34m,\u001b[0m \u001b[0mlocal_ns\u001b[0m\u001b[0;34m)\u001b[0m\u001b[0;34m\u001b[0m\u001b[0m\n\u001b[0m\u001b[1;32m   1194\u001b[0m             \u001b[0mend\u001b[0m \u001b[0;34m=\u001b[0m \u001b[0mclock2\u001b[0m\u001b[0;34m(\u001b[0m\u001b[0;34m)\u001b[0m\u001b[0;34m\u001b[0m\u001b[0m\n\u001b[1;32m   1195\u001b[0m             \u001b[0mout\u001b[0m \u001b[0;34m=\u001b[0m \u001b[0mNone\u001b[0m\u001b[0;34m\u001b[0m\u001b[0m\n",
            "\u001b[0;32m<timed exec>\u001b[0m in \u001b[0;36m<module>\u001b[0;34m()\u001b[0m\n",
            "\u001b[0;32m/usr/local/lib/python2.7/dist-packages/keras/legacy/interfaces.pyc\u001b[0m in \u001b[0;36mwrapper\u001b[0;34m(*args, **kwargs)\u001b[0m\n\u001b[1;32m     89\u001b[0m                 warnings.warn('Update your `' + object_name + '` call to the ' +\n\u001b[1;32m     90\u001b[0m                               'Keras 2 API: ' + signature, stacklevel=2)\n\u001b[0;32m---> 91\u001b[0;31m             \u001b[0;32mreturn\u001b[0m \u001b[0mfunc\u001b[0m\u001b[0;34m(\u001b[0m\u001b[0;34m*\u001b[0m\u001b[0margs\u001b[0m\u001b[0;34m,\u001b[0m \u001b[0;34m**\u001b[0m\u001b[0mkwargs\u001b[0m\u001b[0;34m)\u001b[0m\u001b[0;34m\u001b[0m\u001b[0m\n\u001b[0m\u001b[1;32m     92\u001b[0m         \u001b[0mwrapper\u001b[0m\u001b[0;34m.\u001b[0m\u001b[0m_original_function\u001b[0m \u001b[0;34m=\u001b[0m \u001b[0mfunc\u001b[0m\u001b[0;34m\u001b[0m\u001b[0m\n\u001b[1;32m     93\u001b[0m         \u001b[0;32mreturn\u001b[0m \u001b[0mwrapper\u001b[0m\u001b[0;34m\u001b[0m\u001b[0m\n",
            "\u001b[0;32m/usr/local/lib/python2.7/dist-packages/keras/engine/training.pyc\u001b[0m in \u001b[0;36mfit_generator\u001b[0;34m(self, generator, steps_per_epoch, epochs, verbose, callbacks, validation_data, validation_steps, class_weight, max_queue_size, workers, use_multiprocessing, shuffle, initial_epoch)\u001b[0m\n\u001b[1;32m   1416\u001b[0m             \u001b[0muse_multiprocessing\u001b[0m\u001b[0;34m=\u001b[0m\u001b[0muse_multiprocessing\u001b[0m\u001b[0;34m,\u001b[0m\u001b[0;34m\u001b[0m\u001b[0m\n\u001b[1;32m   1417\u001b[0m             \u001b[0mshuffle\u001b[0m\u001b[0;34m=\u001b[0m\u001b[0mshuffle\u001b[0m\u001b[0;34m,\u001b[0m\u001b[0;34m\u001b[0m\u001b[0m\n\u001b[0;32m-> 1418\u001b[0;31m             initial_epoch=initial_epoch)\n\u001b[0m\u001b[1;32m   1419\u001b[0m \u001b[0;34m\u001b[0m\u001b[0m\n\u001b[1;32m   1420\u001b[0m     \u001b[0;34m@\u001b[0m\u001b[0minterfaces\u001b[0m\u001b[0;34m.\u001b[0m\u001b[0mlegacy_generator_methods_support\u001b[0m\u001b[0;34m\u001b[0m\u001b[0m\n",
            "\u001b[0;32m/usr/local/lib/python2.7/dist-packages/keras/engine/training_generator.pyc\u001b[0m in \u001b[0;36mfit_generator\u001b[0;34m(model, generator, steps_per_epoch, epochs, verbose, callbacks, validation_data, validation_steps, class_weight, max_queue_size, workers, use_multiprocessing, shuffle, initial_epoch)\u001b[0m\n\u001b[1;32m    215\u001b[0m                 outs = model.train_on_batch(x, y,\n\u001b[1;32m    216\u001b[0m                                             \u001b[0msample_weight\u001b[0m\u001b[0;34m=\u001b[0m\u001b[0msample_weight\u001b[0m\u001b[0;34m,\u001b[0m\u001b[0;34m\u001b[0m\u001b[0m\n\u001b[0;32m--> 217\u001b[0;31m                                             class_weight=class_weight)\n\u001b[0m\u001b[1;32m    218\u001b[0m \u001b[0;34m\u001b[0m\u001b[0m\n\u001b[1;32m    219\u001b[0m                 \u001b[0mouts\u001b[0m \u001b[0;34m=\u001b[0m \u001b[0mto_list\u001b[0m\u001b[0;34m(\u001b[0m\u001b[0mouts\u001b[0m\u001b[0;34m)\u001b[0m\u001b[0;34m\u001b[0m\u001b[0m\n",
            "\u001b[0;32m/usr/local/lib/python2.7/dist-packages/keras/engine/training.pyc\u001b[0m in \u001b[0;36mtrain_on_batch\u001b[0;34m(self, x, y, sample_weight, class_weight)\u001b[0m\n\u001b[1;32m   1215\u001b[0m             \u001b[0mins\u001b[0m \u001b[0;34m=\u001b[0m \u001b[0mx\u001b[0m \u001b[0;34m+\u001b[0m \u001b[0my\u001b[0m \u001b[0;34m+\u001b[0m \u001b[0msample_weights\u001b[0m\u001b[0;34m\u001b[0m\u001b[0m\n\u001b[1;32m   1216\u001b[0m         \u001b[0mself\u001b[0m\u001b[0;34m.\u001b[0m\u001b[0m_make_train_function\u001b[0m\u001b[0;34m(\u001b[0m\u001b[0;34m)\u001b[0m\u001b[0;34m\u001b[0m\u001b[0m\n\u001b[0;32m-> 1217\u001b[0;31m         \u001b[0moutputs\u001b[0m \u001b[0;34m=\u001b[0m \u001b[0mself\u001b[0m\u001b[0;34m.\u001b[0m\u001b[0mtrain_function\u001b[0m\u001b[0;34m(\u001b[0m\u001b[0mins\u001b[0m\u001b[0;34m)\u001b[0m\u001b[0;34m\u001b[0m\u001b[0m\n\u001b[0m\u001b[1;32m   1218\u001b[0m         \u001b[0;32mreturn\u001b[0m \u001b[0munpack_singleton\u001b[0m\u001b[0;34m(\u001b[0m\u001b[0moutputs\u001b[0m\u001b[0;34m)\u001b[0m\u001b[0;34m\u001b[0m\u001b[0m\n\u001b[1;32m   1219\u001b[0m \u001b[0;34m\u001b[0m\u001b[0m\n",
            "\u001b[0;32m/usr/local/lib/python2.7/dist-packages/keras/backend/tensorflow_backend.pyc\u001b[0m in \u001b[0;36m__call__\u001b[0;34m(self, inputs)\u001b[0m\n\u001b[1;32m   2713\u001b[0m                 \u001b[0;32mreturn\u001b[0m \u001b[0mself\u001b[0m\u001b[0;34m.\u001b[0m\u001b[0m_legacy_call\u001b[0m\u001b[0;34m(\u001b[0m\u001b[0minputs\u001b[0m\u001b[0;34m)\u001b[0m\u001b[0;34m\u001b[0m\u001b[0m\n\u001b[1;32m   2714\u001b[0m \u001b[0;34m\u001b[0m\u001b[0m\n\u001b[0;32m-> 2715\u001b[0;31m             \u001b[0;32mreturn\u001b[0m \u001b[0mself\u001b[0m\u001b[0;34m.\u001b[0m\u001b[0m_call\u001b[0m\u001b[0;34m(\u001b[0m\u001b[0minputs\u001b[0m\u001b[0;34m)\u001b[0m\u001b[0;34m\u001b[0m\u001b[0m\n\u001b[0m\u001b[1;32m   2716\u001b[0m         \u001b[0;32melse\u001b[0m\u001b[0;34m:\u001b[0m\u001b[0;34m\u001b[0m\u001b[0m\n\u001b[1;32m   2717\u001b[0m             \u001b[0;32mif\u001b[0m \u001b[0mpy_any\u001b[0m\u001b[0;34m(\u001b[0m\u001b[0mis_tensor\u001b[0m\u001b[0;34m(\u001b[0m\u001b[0mx\u001b[0m\u001b[0;34m)\u001b[0m \u001b[0;32mfor\u001b[0m \u001b[0mx\u001b[0m \u001b[0;32min\u001b[0m \u001b[0minputs\u001b[0m\u001b[0;34m)\u001b[0m\u001b[0;34m:\u001b[0m\u001b[0;34m\u001b[0m\u001b[0m\n",
            "\u001b[0;32m/usr/local/lib/python2.7/dist-packages/keras/backend/tensorflow_backend.pyc\u001b[0m in \u001b[0;36m_call\u001b[0;34m(self, inputs)\u001b[0m\n\u001b[1;32m   2673\u001b[0m             \u001b[0mfetched\u001b[0m \u001b[0;34m=\u001b[0m \u001b[0mself\u001b[0m\u001b[0;34m.\u001b[0m\u001b[0m_callable_fn\u001b[0m\u001b[0;34m(\u001b[0m\u001b[0;34m*\u001b[0m\u001b[0marray_vals\u001b[0m\u001b[0;34m,\u001b[0m \u001b[0mrun_metadata\u001b[0m\u001b[0;34m=\u001b[0m\u001b[0mself\u001b[0m\u001b[0;34m.\u001b[0m\u001b[0mrun_metadata\u001b[0m\u001b[0;34m)\u001b[0m\u001b[0;34m\u001b[0m\u001b[0m\n\u001b[1;32m   2674\u001b[0m         \u001b[0;32melse\u001b[0m\u001b[0;34m:\u001b[0m\u001b[0;34m\u001b[0m\u001b[0m\n\u001b[0;32m-> 2675\u001b[0;31m             \u001b[0mfetched\u001b[0m \u001b[0;34m=\u001b[0m \u001b[0mself\u001b[0m\u001b[0;34m.\u001b[0m\u001b[0m_callable_fn\u001b[0m\u001b[0;34m(\u001b[0m\u001b[0;34m*\u001b[0m\u001b[0marray_vals\u001b[0m\u001b[0;34m)\u001b[0m\u001b[0;34m\u001b[0m\u001b[0m\n\u001b[0m\u001b[1;32m   2676\u001b[0m         \u001b[0;32mreturn\u001b[0m \u001b[0mfetched\u001b[0m\u001b[0;34m[\u001b[0m\u001b[0;34m:\u001b[0m\u001b[0mlen\u001b[0m\u001b[0;34m(\u001b[0m\u001b[0mself\u001b[0m\u001b[0;34m.\u001b[0m\u001b[0moutputs\u001b[0m\u001b[0;34m)\u001b[0m\u001b[0;34m]\u001b[0m\u001b[0;34m\u001b[0m\u001b[0m\n\u001b[1;32m   2677\u001b[0m \u001b[0;34m\u001b[0m\u001b[0m\n",
            "\u001b[0;32m/usr/local/lib/python2.7/dist-packages/tensorflow/python/client/session.pyc\u001b[0m in \u001b[0;36m__call__\u001b[0;34m(self, *args, **kwargs)\u001b[0m\n\u001b[1;32m   1437\u001b[0m           ret = tf_session.TF_SessionRunCallable(\n\u001b[1;32m   1438\u001b[0m               \u001b[0mself\u001b[0m\u001b[0;34m.\u001b[0m\u001b[0m_session\u001b[0m\u001b[0;34m.\u001b[0m\u001b[0m_session\u001b[0m\u001b[0;34m,\u001b[0m \u001b[0mself\u001b[0m\u001b[0;34m.\u001b[0m\u001b[0m_handle\u001b[0m\u001b[0;34m,\u001b[0m \u001b[0margs\u001b[0m\u001b[0;34m,\u001b[0m \u001b[0mstatus\u001b[0m\u001b[0;34m,\u001b[0m\u001b[0;34m\u001b[0m\u001b[0m\n\u001b[0;32m-> 1439\u001b[0;31m               run_metadata_ptr)\n\u001b[0m\u001b[1;32m   1440\u001b[0m         \u001b[0;32mif\u001b[0m \u001b[0mrun_metadata\u001b[0m\u001b[0;34m:\u001b[0m\u001b[0;34m\u001b[0m\u001b[0m\n\u001b[1;32m   1441\u001b[0m           \u001b[0mproto_data\u001b[0m \u001b[0;34m=\u001b[0m \u001b[0mtf_session\u001b[0m\u001b[0;34m.\u001b[0m\u001b[0mTF_GetBuffer\u001b[0m\u001b[0;34m(\u001b[0m\u001b[0mrun_metadata_ptr\u001b[0m\u001b[0;34m)\u001b[0m\u001b[0;34m\u001b[0m\u001b[0m\n",
            "\u001b[0;32m/usr/local/lib/python2.7/dist-packages/tensorflow/python/framework/errors_impl.pyc\u001b[0m in \u001b[0;36m__exit__\u001b[0;34m(self, type_arg, value_arg, traceback_arg)\u001b[0m\n\u001b[1;32m    526\u001b[0m             \u001b[0mNone\u001b[0m\u001b[0;34m,\u001b[0m \u001b[0mNone\u001b[0m\u001b[0;34m,\u001b[0m\u001b[0;34m\u001b[0m\u001b[0m\n\u001b[1;32m    527\u001b[0m             \u001b[0mcompat\u001b[0m\u001b[0;34m.\u001b[0m\u001b[0mas_text\u001b[0m\u001b[0;34m(\u001b[0m\u001b[0mc_api\u001b[0m\u001b[0;34m.\u001b[0m\u001b[0mTF_Message\u001b[0m\u001b[0;34m(\u001b[0m\u001b[0mself\u001b[0m\u001b[0;34m.\u001b[0m\u001b[0mstatus\u001b[0m\u001b[0;34m.\u001b[0m\u001b[0mstatus\u001b[0m\u001b[0;34m)\u001b[0m\u001b[0;34m)\u001b[0m\u001b[0;34m,\u001b[0m\u001b[0;34m\u001b[0m\u001b[0m\n\u001b[0;32m--> 528\u001b[0;31m             c_api.TF_GetCode(self.status.status))\n\u001b[0m\u001b[1;32m    529\u001b[0m     \u001b[0;31m# Delete the underlying status object from memory otherwise it stays alive\u001b[0m\u001b[0;34m\u001b[0m\u001b[0;34m\u001b[0m\u001b[0m\n\u001b[1;32m    530\u001b[0m     \u001b[0;31m# as there is a reference to status from this from the traceback due to\u001b[0m\u001b[0;34m\u001b[0m\u001b[0;34m\u001b[0m\u001b[0m\n",
            "\u001b[0;31mResourceExhaustedError\u001b[0m: OOM when allocating tensor with shape[512] and type float on /job:localhost/replica:0/task:0/device:GPU:0 by allocator GPU_0_bfc\n\t [[{{node bn3d_branch2c/FusedBatchNorm}} = FusedBatchNorm[T=DT_FLOAT, data_format=\"NHWC\", epsilon=0.001, is_training=true, _device=\"/job:localhost/replica:0/task:0/device:GPU:0\"](res3d_branch2c/BiasAdd, bn3d_branch2c/gamma/read, bn3d_branch2c/beta/read, bn3d_branch2c/Const_4, bn3d_branch2c/Const_5)]]\nHint: If you want to see a list of allocated tensors when OOM happens, add report_tensor_allocations_upon_oom to RunOptions for current allocation info.\n\n\t [[{{node metrics/categorical_accuracy/Mean/_2967}} = _Recv[client_terminated=false, recv_device=\"/job:localhost/replica:0/task:0/device:CPU:0\", send_device=\"/job:localhost/replica:0/task:0/device:GPU:0\", send_device_incarnation=1, tensor_name=\"edge_27317_metrics/categorical_accuracy/Mean\", tensor_type=DT_FLOAT, _device=\"/job:localhost/replica:0/task:0/device:CPU:0\"]()]]\nHint: If you want to see a list of allocated tensors when OOM happens, add report_tensor_allocations_upon_oom to RunOptions for current allocation info.\n"
          ]
        }
      ]
    },
    {
      "metadata": {
        "id": "cKvO8j8iIiXG",
        "colab_type": "text"
      },
      "cell_type": "markdown",
      "source": [
        "The big model such as ResNet50 with BATCH_SIZE=340 and IMG_SIZE=128 can't even fit into a model."
      ]
    },
    {
      "metadata": {
        "id": "jSWNNWQn_mJ-",
        "colab_type": "text"
      },
      "cell_type": "markdown",
      "source": [
        "# Results"
      ]
    },
    {
      "metadata": {
        "id": "4p_H-CKUFZhg",
        "colab_type": "text"
      },
      "cell_type": "markdown",
      "source": [
        "model, number of parameters (millions), PL score\n",
        "*   model 1 (small model, big batch size), 1.6, 0.746\n",
        "*   model 2 (small model, BatchNorm, small batch size), 1.6, 0.706 \n",
        "*   model 3 (big model, BatchNorm), 3.8, 0.800\n",
        "*   model 4 (model 3, data augmentation), 3.8, 0.798\n",
        "*   model 5 (model 3, big batch size), 3.8, 0.833\n",
        "*   MobileNet (skip-connections, no pooling, after ~50 hours of training), 3.5, 0.922\n",
        "\n"
      ]
    },
    {
      "metadata": {
        "id": "JtOSuUHI_oS9",
        "colab_type": "text"
      },
      "cell_type": "markdown",
      "source": [
        "Bigger models perform better, but not always due to the vanishing gradient problem. BatchNorm and skip-connections solve this problem. Data Augmentation doesn't harm the training process. To train a good model use larger images, use larger batch size, use techniques such as BatchNorm and skip-connections, use all data. All this helps model generalize well."
      ]
    },
    {
      "metadata": {
        "id": "yTr3Ap4YINl2",
        "colab_type": "code",
        "colab": {}
      },
      "cell_type": "code",
      "source": [
        ""
      ],
      "execution_count": 0,
      "outputs": []
    },
    {
      "metadata": {
        "id": "5VC5hy0Dvp6h",
        "colab_type": "text"
      },
      "cell_type": "markdown",
      "source": [
        "# Score test set"
      ]
    },
    {
      "metadata": {
        "ExecuteTime": {
          "end_time": "2018-11-07T12:18:38.307707Z",
          "start_time": "2018-11-07T12:18:34.929466Z"
        },
        "id": "GhzgZoUHvp6l",
        "colab_type": "code",
        "outputId": "784dbfac-85ac-4607-95fc-380a5ac6e491",
        "colab": {
          "base_uri": "https://localhost:8080/",
          "height": 68
        }
      },
      "cell_type": "code",
      "source": [
        "# download test set\n",
        "! KAGGLE_USERNAME=alexyalunin KAGGLE_KEY=1191c609419511bd8d9fd6972f716f9e kaggle competitions download -c quickdraw-doodle-recognition -f test_simplified.csv"
      ],
      "execution_count": 0,
      "outputs": [
        {
          "output_type": "stream",
          "text": [
            "Downloading test_simplified.csv to /content\n",
            " 70% 41.0M/59.0M [00:00<00:00, 33.3MB/s]\n",
            "100% 59.0M/59.0M [00:01<00:00, 59.6MB/s]\n"
          ],
          "name": "stdout"
        }
      ]
    },
    {
      "metadata": {
        "ExecuteTime": {
          "end_time": "2018-11-07T16:25:30.169624Z",
          "start_time": "2018-11-07T16:25:30.148875Z"
        },
        "id": "cZYIsDfnvp6o",
        "colab_type": "code",
        "colab": {}
      },
      "cell_type": "code",
      "source": [
        "IMG_SIZE = 128\n",
        "def test_csv_iterator(batch_size):\n",
        "    with open(\"test_simplified.csv\", \"r\") as f:\n",
        "        batch_keys = []\n",
        "        batch_images = []\n",
        "        f.readline()  # skip header\n",
        "        for line in csv.reader(f, delimiter=',', quotechar='\"'):\n",
        "            batch_keys.append(line[0])\n",
        "            batch_images.append(draw_cv2(line[2], IMG_SIZE))\n",
        "            if len(batch_images) == batch_size:\n",
        "                batch_images = np.stack(batch_images, axis=0)\n",
        "                batch_images = np.expand_dims(batch_images, -1)\n",
        "                batch_images = batch_images.astype('float32')\n",
        "                ### YOUR CODE HERE: normalize batch_images the same way as during training!\n",
        "                batch_images = np.divide(batch_images, 255.)\n",
        "                yield batch_keys, batch_images\n",
        "                batch_keys = []\n",
        "                batch_images = []\n",
        "        if batch_images:  # last batch\n",
        "            batch_images = np.stack(batch_images, axis=0)\n",
        "            batch_images = np.expand_dims(batch_images, -1)\n",
        "            batch_images = batch_images.astype('float32')\n",
        "            ### YOUR CODE HERE: normalize batch_images the same way as during training!\n",
        "            batch_images = np.divide(batch_images, 255.)\n",
        "            yield batch_keys, batch_images"
      ],
      "execution_count": 0,
      "outputs": []
    },
    {
      "metadata": {
        "ExecuteTime": {
          "end_time": "2018-11-07T16:25:32.406415Z",
          "start_time": "2018-11-07T16:25:32.203842Z"
        },
        "id": "3DcdYvcAvp6r",
        "colab_type": "code",
        "outputId": "52e4acaa-0ce0-4aa6-ae1c-72706214fbea",
        "colab": {
          "base_uri": "https://localhost:8080/",
          "height": 34
        }
      },
      "cell_type": "code",
      "source": [
        "! wc -l test_simplified.csv"
      ],
      "execution_count": 0,
      "outputs": [
        {
          "output_type": "stream",
          "text": [
            "112200 test_simplified.csv\n"
          ],
          "name": "stdout"
        }
      ]
    },
    {
      "metadata": {
        "id": "pwP9EX3FCnhz",
        "colab_type": "code",
        "outputId": "e176fedf-ea65-453d-a3e3-3fdff9f85cba",
        "colab": {
          "base_uri": "https://localhost:8080/",
          "height": 34
        }
      },
      "cell_type": "code",
      "source": [
        "# model_filename = \"model_mn_32\"\n",
        "# model_mn = load_model(model_filename, custom_objects={\"top_3_accuracy\": top_3_accuracy})\n",
        "\n",
        "model = model_mn\n",
        "BATCH_SIZE = 340\n",
        "with open(\"submission.csv\", \"w\", buffering=1*1024*1024) as f:\n",
        "    f.write(\"key_id,word\\n\")\n",
        "    for batch_keys, batch_images in tqdm.tqdm(test_csv_iterator(BATCH_SIZE), total=np.ceil(112200./BATCH_SIZE)):\n",
        "        probas = model.predict(batch_images, BATCH_SIZE)\n",
        "        top_3_classes = np.argsort(probas, axis=1)[:, [-1, -2, -3]]\n",
        "        labels = map(lambda x: \" \".join(\"_\".join(class_labels[idx].split()) for idx in x), top_3_classes)\n",
        "        for key, labels in zip(batch_keys, labels):\n",
        "            f.write(key + \",\" + labels + \"\\n\")"
      ],
      "execution_count": 0,
      "outputs": [
        {
          "output_type": "stream",
          "text": [
            "100%|██████████| 330/330.0 [02:56<00:00,  1.81it/s]\n"
          ],
          "name": "stderr"
        }
      ]
    },
    {
      "metadata": {
        "ExecuteTime": {
          "end_time": "2018-11-07T16:27:51.293010Z",
          "start_time": "2018-11-07T16:27:51.111607Z"
        },
        "id": "XDYYRzhVvp6z",
        "colab_type": "code",
        "outputId": "54ca65b3-f4e1-4162-a0ad-7ed02f4aa170",
        "colab": {
          "base_uri": "https://localhost:8080/",
          "height": 34
        }
      },
      "cell_type": "code",
      "source": [
        "! wc -l submission.csv"
      ],
      "execution_count": 0,
      "outputs": [
        {
          "output_type": "stream",
          "text": [
            "112200 submission.csv\n"
          ],
          "name": "stdout"
        }
      ]
    },
    {
      "metadata": {
        "ExecuteTime": {
          "end_time": "2018-11-07T13:18:12.630549Z",
          "start_time": "2018-11-07T13:17:59.689315Z"
        },
        "id": "A3Y_e1Ajvp61",
        "colab_type": "code",
        "outputId": "fc73a129-281a-47b0-e540-7dfa7026b98b",
        "colab": {
          "base_uri": "https://localhost:8080/",
          "height": 51
        }
      },
      "cell_type": "code",
      "source": [
        "# submit to kaggle\n",
        "! KAGGLE_USERNAME=alexyalunin KAGGLE_KEY=1191c609419511bd8d9fd6972f716f9e kaggle competitions submit quickdraw-doodle-recognition -f submission.csv -m \"My precious\""
      ],
      "execution_count": 0,
      "outputs": [
        {
          "output_type": "stream",
          "text": [
            "100% 4.43M/4.43M [00:08<00:00, 579kB/s]\n",
            "Successfully submitted to Quick, Draw! Doodle Recognition Challenge"
          ],
          "name": "stdout"
        }
      ]
    },
    {
      "metadata": {
        "id": "ccPJkDZj3XSf",
        "colab_type": "code",
        "colab": {}
      },
      "cell_type": "code",
      "source": [
        ""
      ],
      "execution_count": 0,
      "outputs": []
    }
  ]
}